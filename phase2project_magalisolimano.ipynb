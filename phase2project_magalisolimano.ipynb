{
 "cells": [
  {
   "cell_type": "markdown",
   "metadata": {},
   "source": [
    "## Final Project Submission - Phase 2\n",
    "\n",
    "* Student name: Magali Solimano\n",
    "* Student pace: self paced\n",
    "* Scheduled project review date/time: \n",
    "* Instructor name: Claude Fried\n",
    "* Blog post URL:\n"
   ]
  },
  {
   "cell_type": "markdown",
   "metadata": {},
   "source": [
    "### Goal of analysis: \n",
    "\n",
    "To inform King County, WA single-family home owners of features that affect housing prices.The county has commissioned analysis of its house sales to assist home buyers and sellers to make informed decision-making in the residential real estate market. The analysis will be publicly available for all county residents."
   ]
  },
  {
   "cell_type": "code",
   "execution_count": null,
   "metadata": {},
   "outputs": [],
   "source": [
    "# Import libraries and functions\n",
    "import pandas as pd\n",
    "import numpy as np\n",
    "import datetime as dt\n",
    "import matplotlib.pyplot as plt\n",
    "from matplotlib.ticker import StrMethodFormatter\n",
    "%matplotlib inline\n",
    "import seaborn as sns\n",
    "from scipy import stats\n",
    "import statsmodels.api as sm\n",
    "import statsmodels.formula.api as smf\n",
    "from sklearn import preprocessing\n",
    "from sklearn.preprocessing import OneHotEncoder\n",
    "from sklearn.linear_model import LinearRegression\n",
    "from sklearn.preprocessing import MinMaxScaler\n",
    "from sklearn.metrics import mean_absolute_error, mean_squared_error\n",
    "from statsmodels.stats.outliers_influence import variance_inflation_factor\n",
    "\n",
    "import warnings\n",
    "warnings.filterwarnings(\"ignore\")"
   ]
  },
  {
   "cell_type": "code",
   "execution_count": null,
   "metadata": {},
   "outputs": [],
   "source": [
    "# Import dataset for King County House Sales\n",
    "df = pd.read_csv('data/kc_house_data.csv')"
   ]
  },
  {
   "cell_type": "markdown",
   "metadata": {},
   "source": [
    "# Column names and descriptions for King County Data Set\n",
    "* **id** - unique identified for a house\n",
    "* **date** - house was sold\n",
    "* **price** -  prediction target\n",
    "* **bedrooms** -  number of Bedrooms/House\n",
    "* **bathrooms** -  number of bathrooms/bedrooms\n",
    "* **sqft_living** - square footage of the home\n",
    "* **sqft_lot** - square footage of the lot\n",
    "* **floors** -  total floors (levels) in house\n",
    "* **waterfront** - House which has a view to a waterfront\n",
    "* **view** - Has been viewed\n",
    "* **condition** - How good the condition is (Overall)\n",
    "* **grade** - overall grade given to the housing unit, based on King County grading system. Classification by construction quality which refers to the types of materials used and the quality of workmanship.\n",
    "* **sqft_above** - square footage of house apart from basement\n",
    "* **sqft_basement** - square footage of the basement\n",
    "* **yr_built** - Built Year\n",
    "* **yr_renovated** - Year when house was renovated\n",
    "* **zipcode** - zip\n",
    "* **lat** - Latitude coordinate\n",
    "* **long** - Longitude coordinate\n",
    "* **sqft_living15** - The square footage of interior housing living space for the nearest 15 neighbors\n",
    "* **sqft_lot15** - The square footage of the land lots of the nearest 15 neighbors"
   ]
  },
  {
   "cell_type": "markdown",
   "metadata": {},
   "source": [
    "# Understanding the dataset"
   ]
  },
  {
   "cell_type": "code",
   "execution_count": null,
   "metadata": {},
   "outputs": [],
   "source": [
    "df.info()"
   ]
  },
  {
   "cell_type": "code",
   "execution_count": null,
   "metadata": {},
   "outputs": [],
   "source": [
    "df.duplicated().value_counts()"
   ]
  },
  {
   "cell_type": "code",
   "execution_count": null,
   "metadata": {},
   "outputs": [],
   "source": [
    "df.head()"
   ]
  },
  {
   "cell_type": "markdown",
   "metadata": {},
   "source": [
    "- Three variables have missing values: waterfront, view, yr_renovated.\n",
    "- Some variables will require changing dtype classifications: date, sqft_basement.\n",
    "- There are no duplicate entries."
   ]
  },
  {
   "cell_type": "code",
   "execution_count": null,
   "metadata": {},
   "outputs": [],
   "source": [
    "df.describe()"
   ]
  },
  {
   "cell_type": "code",
   "execution_count": null,
   "metadata": {
    "scrolled": true
   },
   "outputs": [],
   "source": [
    "# Examine distributions to better understand data and what preparation the data may need\n",
    "\n",
    "fig, axes = plt.subplots(5,5, figsize=(15,15))\n",
    "fig.set_tight_layout(True)\n",
    "\n",
    "for index, col in enumerate(df.columns):\n",
    "    ax = axes[index//5][index%5]\n",
    "    ax.hist(df[col])\n",
    "    #ax.set_xlabel(col)\n",
    "    \n",
    "    ax.set_title(col)\n",
    "    \n",
    "fig.tight_layout()   "
   ]
  },
  {
   "cell_type": "markdown",
   "metadata": {},
   "source": [
    "- Data for dependent variable (price) and many independent variables (bedrooms, bathrooms, sqft_living, sqft_lot, other sqft variables) are highly skewed, with large outliers. Many variables are positively skewed, with large outliers in right tail. Since this analysis is focused on prices for single-family homes, outlier analysis will start with removing outliers for price, number of bedrooms, and number of bathrooms that exceed what would be expected to seen for single-family homes in a normal distribution.\n",
    "- Additional data could be extracted from date, such as quarter sold, month sold, day sold.\n",
    "- There appear to be categorical variables (waterfront) and other variables (eg, zipcode, year renovated) can perhaps be treated as categorical as well.\n",
    "- id variable may not be useful feature for this home price analysis, but could shed light on records in the datasets."
   ]
  },
  {
   "cell_type": "code",
   "execution_count": null,
   "metadata": {},
   "outputs": [],
   "source": [
    "# Do some home ids appear more than once in the dataset?\n",
    "df.id.value_counts()"
   ]
  },
  {
   "cell_type": "code",
   "execution_count": null,
   "metadata": {},
   "outputs": [],
   "source": [
    "display(df.groupby('id')['id', 'date', 'price'].filter(lambda x: len(x) > 1).nunique())\n",
    "df.groupby('id')['id', 'date', 'price'].filter(lambda x: len(x) > 1)"
   ]
  },
  {
   "cell_type": "markdown",
   "metadata": {},
   "source": [
    "- 176 homes sold more than once, and this accounts for a small share of the dataset (0.8%). Some homes may have been flipped, or deals may have fallen through."
   ]
  },
  {
   "cell_type": "markdown",
   "metadata": {},
   "source": [
    "## Data preparation"
   ]
  },
  {
   "cell_type": "code",
   "execution_count": null,
   "metadata": {},
   "outputs": [],
   "source": [
    "# DATA TYPE CONVERSIONS\n",
    "# Convert date to date dtype\n",
    "df_pp = df  #df for preprocessing of data\n",
    "df_pp.date = pd.to_datetime(df['date'])\n",
    "df_pp.date"
   ]
  },
  {
   "cell_type": "code",
   "execution_count": null,
   "metadata": {},
   "outputs": [],
   "source": [
    "# Extract year, quarter, month, day, day of week from date\n",
    "df_pp['yr_sold'] = pd.DatetimeIndex(df.date).year\n",
    "df_pp['quarter_sold'] = pd.DatetimeIndex(df.date).quarter\n",
    "df_pp['month_sold'] = pd.DatetimeIndex(df.date).month\n",
    "df_pp['day_of_week_sold'] = pd.DatetimeIndex(df.date).dayofweek  #legend: 0-Monday, 6-Sunday"
   ]
  },
  {
   "cell_type": "code",
   "execution_count": null,
   "metadata": {},
   "outputs": [],
   "source": [
    "# Convert sqft_basement dtype from object to float\n",
    "df_pp.sqft_basement.value_counts(dropna=False)"
   ]
  },
  {
   "cell_type": "code",
   "execution_count": null,
   "metadata": {},
   "outputs": [],
   "source": [
    "# '?' value is probably a NaN, which we can replace with NaN and then replace with the mean\n",
    "df_pp.sqft_basement = df.sqft_basement.replace('?', np.nan)\n",
    "\n",
    "# Convert sqft_basement data type to float. \n",
    "df_pp['sqft_basement'] = df['sqft_basement'].astype(float)\n",
    "\n",
    "# Replace NaN with mean values.\n",
    "df_pp.sqft_basement = df.sqft_basement.fillna(df.sqft_basement.mean())\n",
    "df_pp.sqft_basement.value_counts(dropna=False)"
   ]
  },
  {
   "cell_type": "code",
   "execution_count": null,
   "metadata": {},
   "outputs": [],
   "source": [
    "# MISSING VALUES: Check for missing values in target variable (price) and dependent variables\n",
    "df_pp.isna().sum()"
   ]
  },
  {
   "cell_type": "code",
   "execution_count": null,
   "metadata": {},
   "outputs": [],
   "source": [
    "df_pp.waterfront.value_counts(dropna=False, normalize = True)"
   ]
  },
  {
   "cell_type": "markdown",
   "metadata": {},
   "source": [
    "- Very few homes have waterfront views. 11% of waterfront values are null, which is somewhat high but there is comfort making an assumption that NaN value means there is no waterfront view given that this matches the most common value."
   ]
  },
  {
   "cell_type": "code",
   "execution_count": null,
   "metadata": {},
   "outputs": [],
   "source": [
    "# waterfront variable: replace \"NaN\" with mode\n",
    "df_pp.waterfront = df.waterfront.fillna(df.waterfront.mode()[0])\n",
    "\n",
    "# check new value counts\n",
    "df_pp.waterfront.value_counts(dropna=False, normalize = True)"
   ]
  },
  {
   "cell_type": "code",
   "execution_count": null,
   "metadata": {},
   "outputs": [],
   "source": [
    "df_pp.view.value_counts(dropna=False, normalize=True)"
   ]
  },
  {
   "cell_type": "code",
   "execution_count": null,
   "metadata": {},
   "outputs": [],
   "source": [
    "plt.scatter(df_pp.view,df_pp.price)"
   ]
  },
  {
   "cell_type": "code",
   "execution_count": null,
   "metadata": {},
   "outputs": [],
   "source": [
    "# view variable: fill NaN with the mean value. Round value since number of views should be whole integers.\n",
    "df_pp.view = df.view.fillna(df.view.mean().round())\n",
    "df_pp.view.value_counts(dropna=False)"
   ]
  },
  {
   "cell_type": "code",
   "execution_count": null,
   "metadata": {},
   "outputs": [],
   "source": [
    "df_pp.yr_renovated.value_counts(dropna=False, normalize=True)"
   ]
  },
  {
   "cell_type": "markdown",
   "metadata": {},
   "source": [
    "- The majority of homes have not been renovated. This variable presents data challenges: There are few data points for most years, and 18% of values are NaN, which is high. NaN is assumed to mean that the home was not renovated."
   ]
  },
  {
   "cell_type": "code",
   "execution_count": null,
   "metadata": {},
   "outputs": [],
   "source": [
    "# Replace yr_renovated null values with 0.\n",
    "df_pp.yr_renovated = df.yr_renovated.fillna(0)\n",
    "df_pp.yr_renovated.value_counts(dropna=False, normalize=True)"
   ]
  },
  {
   "cell_type": "code",
   "execution_count": null,
   "metadata": {},
   "outputs": [],
   "source": [
    "#Is bathrooms variable really bathrooms/bedrooms? or just bathrooms/house?\n",
    "df_pp.bathrooms.nunique()"
   ]
  },
  {
   "cell_type": "code",
   "execution_count": null,
   "metadata": {},
   "outputs": [],
   "source": [
    "df_pp.bathrooms.value_counts(ascending=False)"
   ]
  },
  {
   "cell_type": "code",
   "execution_count": null,
   "metadata": {},
   "outputs": [],
   "source": [
    "bath_test = df.bathrooms * df.bedrooms\n",
    "bath_test.value_counts(ascending=False)"
   ]
  },
  {
   "cell_type": "markdown",
   "metadata": {},
   "source": [
    "- Given the values in the bathrooms variable, which are high, it is unlikely that this variable captures the number of bathrooms to bedrooms. It is more likely that this variable captures the number of bathrooms per home."
   ]
  },
  {
   "cell_type": "markdown",
   "metadata": {},
   "source": [
    "# Outlier Analysis"
   ]
  },
  {
   "cell_type": "code",
   "execution_count": null,
   "metadata": {},
   "outputs": [],
   "source": [
    "# Plot distributions vs dependent variable (price)\n",
    "fig, axes = plt.subplots(5,5, figsize=(12,12))\n",
    "fig.set_tight_layout(True)\n",
    "\n",
    "for index, col in enumerate(df_pp.columns):\n",
    "    ax = axes[index//5][index%5]\n",
    "    ax.hist(df_pp[col])\n",
    "    #ax.set_xlabel(col)\n",
    "    ax.set_ylabel('Price')\n",
    "    \n",
    "    ax.set_title(col)\n",
    "    \n",
    "fig.tight_layout()   "
   ]
  },
  {
   "cell_type": "code",
   "execution_count": null,
   "metadata": {},
   "outputs": [],
   "source": [
    "# Explore distribution of price\n",
    "df_pp.price.describe()"
   ]
  },
  {
   "cell_type": "code",
   "execution_count": null,
   "metadata": {},
   "outputs": [],
   "source": [
    "sns.distplot(df_pp.price)\n",
    "plt.title('Distribution of Price')"
   ]
  },
  {
   "cell_type": "code",
   "execution_count": null,
   "metadata": {},
   "outputs": [],
   "source": [
    "display(df_pp.price.quantile([0.50, 0.068, 0.95, 0.997]))"
   ]
  },
  {
   "cell_type": "markdown",
   "metadata": {},
   "source": [
    "- As noted previously, price is positively skewed, with large outliers in the right tail. Remove price outliers. Criteria: remove outliers that are not consistent with focus on single-family home prices (eg, outliers are those that are more than 3 std above mean in normal distribution)."
   ]
  },
  {
   "cell_type": "code",
   "execution_count": null,
   "metadata": {},
   "outputs": [],
   "source": [
    "# Set max price threshold at mean + three standard deviations (as would be found in normally distributed data).\n",
    "df_pp[(np.abs(stats.zscore(df.price)) < 3)].describe()"
   ]
  },
  {
   "cell_type": "markdown",
   "metadata": {},
   "source": [
    "- Price max is reduced from $7.7 M to $1.6 M."
   ]
  },
  {
   "cell_type": "code",
   "execution_count": null,
   "metadata": {},
   "outputs": [],
   "source": [
    "df_pp[(np.abs(stats.zscore(df.price)) < 3)].shape"
   ]
  },
  {
   "cell_type": "code",
   "execution_count": null,
   "metadata": {},
   "outputs": [],
   "source": [
    "# How much data would be dropped if this max price threshold is applied?\n",
    "print('No. rows dropped due to setting max price threshold:', (21597-21191))\n",
    "print('Percent of original dataset dropped due to setting max price threshold:', (100*round(((21597-21191)/21597),3)), '%')"
   ]
  },
  {
   "cell_type": "code",
   "execution_count": null,
   "metadata": {},
   "outputs": [],
   "source": [
    "df_pp = df_pp[(np.abs(stats.zscore(df.price)) < 3)]"
   ]
  },
  {
   "cell_type": "code",
   "execution_count": null,
   "metadata": {},
   "outputs": [],
   "source": [
    "# Remove outliers for bedrooms and bathrooms in accordance with goal of focusing on single-family homes.."
   ]
  },
  {
   "cell_type": "code",
   "execution_count": null,
   "metadata": {},
   "outputs": [],
   "source": [
    "# Address outliers for bedrooms\n",
    "display(df_pp.bedrooms.value_counts())\n",
    "df_pp.boxplot(column = 'bedrooms')"
   ]
  },
  {
   "cell_type": "markdown",
   "metadata": {},
   "source": [
    "- Bedrooms variable has large outlier, '33'. Assume original entry was typo. "
   ]
  },
  {
   "cell_type": "code",
   "execution_count": null,
   "metadata": {},
   "outputs": [],
   "source": [
    "# Replace '33' outlier with mean value.\n",
    "df_pp.bedrooms.mean().round(0)  #round mean to whole number since 3.3 bedrooms would not be realistic."
   ]
  },
  {
   "cell_type": "code",
   "execution_count": null,
   "metadata": {},
   "outputs": [],
   "source": [
    "df_pp.bedrooms = df_pp.bedrooms.replace([33],3)\n",
    "df_pp.boxplot(column = 'bedrooms')"
   ]
  },
  {
   "cell_type": "markdown",
   "metadata": {},
   "source": [
    "- Even when the '33' outlier is excluded, remaining bedroom outliers are still too large for single-family home sale analysis."
   ]
  },
  {
   "cell_type": "code",
   "execution_count": null,
   "metadata": {},
   "outputs": [],
   "source": [
    "# Set maximum number of bedrooms to mean + three std (as would be found for 99.7% of data in a normal distribution)\n",
    "# Number of rows that would be dropped by applying max bedrooms threshold\n",
    "df_pp[(np.abs(stats.zscore(df_pp.bedrooms)) < 3)].shape"
   ]
  },
  {
   "cell_type": "code",
   "execution_count": null,
   "metadata": {},
   "outputs": [],
   "source": [
    "# How much data would be dropped if this max bedroom threshold is applied?\n",
    "print('No. rows dropped due to setting max bedroom threshold:', (21191-21140))\n",
    "print('Percent of original dataset dropped due to setting max price threshold:', (100*round(((21191-21140)/21597),3)), '%')"
   ]
  },
  {
   "cell_type": "code",
   "execution_count": null,
   "metadata": {},
   "outputs": [],
   "source": [
    "# Number of rows that would be dropped by applying max bathrooms threshold\n",
    "df_pp[(np.abs(stats.zscore(df_pp.bathrooms)) < 3)].shape"
   ]
  },
  {
   "cell_type": "code",
   "execution_count": null,
   "metadata": {},
   "outputs": [],
   "source": [
    "df_pp[(np.abs(stats.zscore(df_pp.bedrooms)) < 3) & (np.abs(stats.zscore(df_pp.bathrooms)) < 3)].shape"
   ]
  },
  {
   "cell_type": "code",
   "execution_count": null,
   "metadata": {},
   "outputs": [],
   "source": [
    "# How much data would be dropped if max bedroom and bathroom thresholds are applied (accounting for overlap)?\n",
    "print('No. rows dropped due to setting max bedroom and bathroom thresholds:', (21191-21041))\n",
    "print('Percent of original dataset dropped due to setting max price threshold:', (100*round(((21191-21041)/21597),4)), '%')"
   ]
  },
  {
   "cell_type": "code",
   "execution_count": null,
   "metadata": {},
   "outputs": [],
   "source": [
    "# Set max bedroom and bathroom thresholds in df\n",
    "df_pp = df_pp[(np.abs(stats.zscore(df_pp.bedrooms)) < 3) & \n",
    "              (np.abs(stats.zscore(df_pp.bathrooms)) < 3)]"
   ]
  },
  {
   "cell_type": "code",
   "execution_count": null,
   "metadata": {},
   "outputs": [],
   "source": [
    "df_pp.shape"
   ]
  },
  {
   "cell_type": "code",
   "execution_count": null,
   "metadata": {},
   "outputs": [],
   "source": [
    "# Recap of impact of outlier removal on dataset\n",
    "print('How much data is lost by setting max thresholds for price, bedrooms, and bathrooms\\nin accordance with focus on single-family homes?')\n",
    "print('--------------------------------------------------------------------------------------------')\n",
    "print('Total rows dropped due to new max thresholds for bedrooms and bathrooms (accounting for overlap):',21191 - 21041)\n",
    "print('Percentage of original dataset:',(100*round(((21191 - 21041)/21597),4)),'%')\n",
    "\n",
    "print('Total rows dropped due to new max thresholds for price, bedrooms, and bathrooms:', 21597 - 21041)\n",
    "print('Percentage of original dataset:',(100*round(((21597 - 21041)/21597),3)),'%')"
   ]
  },
  {
   "cell_type": "markdown",
   "metadata": {},
   "source": [
    "- Removing outliers for price, bedrooms, and bathrooms that were higher than 3 std from the mean results in dropping 2.6% of the dataset, which is less than the 5% maximum that could be dropped."
   ]
  },
  {
   "cell_type": "code",
   "execution_count": null,
   "metadata": {
    "scrolled": false
   },
   "outputs": [],
   "source": [
    "# Distributions: What do distributions of price, bedrooms, bathrooms look like now? Did distributions of other variables change?\n",
    "distributions_data = df_pp.copy() \n",
    "\n",
    "fig, axes = plt.subplots(7,4, figsize=(12,12))\n",
    "fig.set_tight_layout(True)\n",
    "\n",
    "for index, col in enumerate(distributions_data.columns):\n",
    "    ax = axes[index//4][index%4]\n",
    "    ax.hist(df_pp[col])\n",
    "    \n",
    "    ax.set_title(col)\n",
    "    \n",
    "fig.tight_layout()    "
   ]
  },
  {
   "cell_type": "code",
   "execution_count": null,
   "metadata": {},
   "outputs": [],
   "source": [
    "df_pp.describe()"
   ]
  },
  {
   "cell_type": "code",
   "execution_count": null,
   "metadata": {},
   "outputs": [],
   "source": [
    "df_pp.boxplot(column = 'price')"
   ]
  },
  {
   "cell_type": "code",
   "execution_count": null,
   "metadata": {},
   "outputs": [],
   "source": [
    "fig, ax = plt.subplots(figsize = (8,5))\n",
    "\n",
    "df_pp.price.hist(bins=50, facecolor='lightblue')\n",
    "\n",
    "#add vertical line representing mean price\n",
    "plt.axvline(df_pp.price.mean(), color='black', linestyle='dashed', linewidth=2)\n",
    "min_ylim, max_ylim = plt.ylim()\n",
    "plt.text(df_pp.price.mean()*1.1, max_ylim*0.9, 'Mean: ${:,.0f}'.format(df_pp.price.mean()))\n",
    "\n",
    "#format xticks\n",
    "ax.xaxis.set_major_formatter(StrMethodFormatter('${x:,.0f}'))\n",
    "plt.xticks(rotation=30)\n",
    "plt.xlabel('Price')\n",
    "\n",
    "#format yticks\n",
    "ax.yaxis.set_major_formatter(StrMethodFormatter('{x:,.0f}'))\n",
    "\n",
    "#remove grid line\n",
    "plt.grid(False)\n",
    "ax.spines['top'].set_visible(False)\n",
    "ax.spines['right'].set_visible(False)\n",
    "\n",
    "#title\n",
    "plt.title('Distribution of Single-Family Home Prices', fontsize=14)\n",
    "\n",
    "plt.show;"
   ]
  },
  {
   "cell_type": "code",
   "execution_count": null,
   "metadata": {},
   "outputs": [],
   "source": [
    "# Mean vs median values for price, bedrooms, bathrooms, sqft_living\n",
    "print('Price mean: ', df_pp.price.mean().round(2))\n",
    "print('Price median: ', df_pp.price.median().round(2))\n",
    "print('-----------------------')\n",
    "print('Bedrooms mean: ', df_pp.bedrooms.mean().round(2))\n",
    "print('Bedrooms median: ', df_pp.bedrooms.median().round(2))\n",
    "print('-----------------------')\n",
    "print('Bathrooms mean: ', df_pp.bathrooms.mean().round(2))\n",
    "print('Bathrooms median: ', df_pp.bathrooms.median().round(2)) \n",
    "print('-----------------------')\n",
    "print('sqft_living mean: ', df_pp.sqft_living.mean().round(2))\n",
    "print('sqft_living median: ', df_pp.sqft_living.median().round(2)) "
   ]
  },
  {
   "cell_type": "markdown",
   "metadata": {},
   "source": [
    "- Removing outliers improved the distribution of bedrooms most notably. Price, bathroom distributions are also less skewed, but remain skewed--price is still positively skewed (mean>median, and bathrooms is negatively skewed (median>mean). Maximum price is now $1.6M (down from $7.7M), max bedrooms is 6 (down from 33), and max bathrooms is 4.25 (down from 7.75). These values are more representative of values that would be expected for single-family homes.\n",
    "- Distribution of sqft_living also improved as a result of removing outliers of price, bedrooms, and bathrooms. Max sqft_living is now 7350 (down from 13,540). Nonetheless, all sqft variables remain positively skewed.\n",
    "- Price and sqft variables may need to be log transformed. "
   ]
  },
  {
   "cell_type": "code",
   "execution_count": null,
   "metadata": {},
   "outputs": [],
   "source": [
    "# Sqft_lot appears to have one very large outlier that can be replaced with mean\n",
    "df_pp.boxplot(column = 'sqft_lot')"
   ]
  },
  {
   "cell_type": "code",
   "execution_count": null,
   "metadata": {},
   "outputs": [],
   "source": [
    "df_pp.sqft_lot.max()"
   ]
  },
  {
   "cell_type": "code",
   "execution_count": null,
   "metadata": {},
   "outputs": [],
   "source": [
    "df_pp.sqft_lot.replace(df_pp.sqft_lot.max(), df_pp.sqft_lot.mean(), inplace=True)\n",
    "#df_pp.sqft_lot.replace([233481], df_pp.sqft_lot.mean(), inplace=True)"
   ]
  },
  {
   "cell_type": "code",
   "execution_count": null,
   "metadata": {},
   "outputs": [],
   "source": [
    "df_pp.boxplot(column = 'sqft_lot')"
   ]
  },
  {
   "cell_type": "markdown",
   "metadata": {},
   "source": [
    "# Exploratory Data Analysis"
   ]
  },
  {
   "cell_type": "code",
   "execution_count": null,
   "metadata": {},
   "outputs": [],
   "source": [
    "# Scatterplots of price and features\n",
    "scatterplot_data = df_pp.drop(['price'], axis =1)\n",
    "\n",
    "fig, axes = plt.subplots(6,4, figsize=(12,12))\n",
    "fig.set_tight_layout(True)\n",
    "\n",
    "for index, col in enumerate(scatterplot_data):\n",
    "    ax = axes[index//4][index%4]\n",
    "    ax.scatter(df_pp[col], df_pp['price'])\n",
    "    #ax.set_xlabel(col)\n",
    "    ax.set_ylabel('Price')\n",
    "    \n",
    "    ax.set_title(col)\n",
    "    \n",
    "fig.tight_layout()    \n",
    "plt.show();"
   ]
  },
  {
   "cell_type": "markdown",
   "metadata": {},
   "source": [
    "- Several variables have clear linear relationship with price, in particular: sqft_living, grade. \n",
    "- bedrooms, bathrooms, sqft_above, sqft_living15 also have linear relationship with price.\n",
    "- Latitude has a stronger linear relationship with price than longitude, suggesting that the North-South location of the home is important for its price.\n",
    "- Date-extracted variables (quarter_sold, month_sold, day of week sold) do not appear to show linear relationship with price, nor are they home features, but they could provide useful insights into market trends.\n",
    "- Zipcode can be treated as categorical. Waterfont is boolean variable, and can be treated as categorical.\n",
    "- Other variables that could be treated as categorical (not continuous): bedrooms, bathrooms, floors, view, condition, grade, yr_renovated."
   ]
  },
  {
   "cell_type": "code",
   "execution_count": null,
   "metadata": {},
   "outputs": [],
   "source": [
    "# Plot sales by quarter, month, and day of week\n",
    "fig, axes = plt.subplots(1,2, figsize=(15,5))\n",
    "fig.suptitle('Home Sales by Time of Year', fontsize=16, y=1)\n",
    "\n",
    "sns.countplot(\n",
    "    df_pp['quarter_sold'], color='navy', ax=axes[0]\n",
    "    ).set(\n",
    "    title='Quarter', \n",
    "    xlabel=None, \n",
    "    ylabel='Count');\n",
    "\n",
    "month_name = df_pp['date'].dt.month_name().str[:3] \n",
    "month_order = ['Jan','Feb','Mar','Apr','May','Jun', 'Jul', 'Aug', 'Sep', 'Oct', 'Nov', 'Dec']\n",
    "sns.countplot(\n",
    "    month_name, color='navy', order=month_order, ax=axes[1]\n",
    "    ).set(\n",
    "    title='Month', \n",
    "    xlabel=None, \n",
    "    ylabel='Count');\n",
    "\n",
    "axes[1].tick_params(axis=\"x\", rotation=30)\n",
    "\n",
    "sns.despine(ax=axes[0])\n",
    "sns.despine(ax=axes[1])\n",
    "\n",
    "fig.show();"
   ]
  },
  {
   "cell_type": "markdown",
   "metadata": {},
   "source": [
    "- Number of home sales is higher in Q2 and Q3, and the months of spring/summer months of April, May, June, July in particular.\n",
    "- Q1 is a slower period for home sales. By month, number of home sales in Jan and Feb are particularly lower than other months. "
   ]
  },
  {
   "cell_type": "code",
   "execution_count": null,
   "metadata": {
    "scrolled": false
   },
   "outputs": [],
   "source": [
    "# Barplots of average number of bedrooms, bathrooms, sqft_above: for presentation slides\n",
    "fig, ax = plt.subplots(figsize=(5,5))\n",
    "\n",
    "data=df_pp[['bedrooms', 'bathrooms', 'floors']]\n",
    "data = data.rename(columns={'bedrooms': 'Bedrooms', 'bathrooms': 'Bathrooms', 'floors': 'Floors'})\n",
    "data.mean().plot(kind='bar', color='darkblue')\n",
    "\n",
    "plt.xticks(rotation=0)\n",
    "\n",
    "sns.despine()\n",
    "\n",
    "plt.title('Home Features \\n(Average Values)')\n",
    "\n",
    "plt.show;"
   ]
  },
  {
   "cell_type": "code",
   "execution_count": null,
   "metadata": {},
   "outputs": [],
   "source": [
    "# Barplot of average square footage: for presentation slides\n",
    "fig, ax = plt.subplots(figsize=(5,5))\n",
    "\n",
    "data=df_pp[['sqft_above']]\n",
    "data = data.rename(columns={'sqft_above': 'Square Feet'})\n",
    "data.mean().plot(kind='bar', color='mediumblue')\n",
    "\n",
    "#format ticks\n",
    "plt.xticks(rotation=0)\n",
    "ax.set_ylim([0, 2000])\n",
    "ax.yaxis.set_major_formatter(StrMethodFormatter('{x:,.0f}'))\n",
    "\n",
    "sns.despine()\n",
    "\n",
    "plt.title('Average Home Square Footage \\n(Mean Home Price per Square Foot: $309)')\n",
    "\n",
    "plt.show;"
   ]
  },
  {
   "cell_type": "code",
   "execution_count": null,
   "metadata": {},
   "outputs": [],
   "source": [
    "# Scatterplot of number of bedrooms vs. bathrooms, and how this relates to price\n",
    "\n",
    "data = df_pp.rename(columns={'price': 'Price', 'bathrooms': 'Bathrooms', 'bedrooms': 'Bedrooms'})\n",
    "fig = plt.gcf()\n",
    "sns.scatterplot(data.Bedrooms, data.Bathrooms, hue = data.Price,  \\\n",
    "                          palette=\"YlOrRd\", legend=\"brief\").legend(loc='upper left',   \\\n",
    "                                                                   fontsize = 12, frameon = False)\n",
    "\n",
    "\n",
    "fig.set_size_inches(10, 5)\n",
    "\n",
    "plt.xlabel('Bedrooms',size=14)\n",
    "plt.ylabel('Bathrooms',size=14)\n",
    "sns.despine()\n",
    "\n",
    "fig.suptitle('Price by Number of Bedrooms and Bathrooms', fontsize = 15)\n",
    "fig.subplots_adjust(top=0.95)"
   ]
  },
  {
   "cell_type": "markdown",
   "metadata": {},
   "source": [
    "- Unsurprisingly, homes with more bedrooms and bathrooms sell for higher prices. What is the relationship between bedrooms and bathrooms that matters for price?"
   ]
  },
  {
   "cell_type": "code",
   "execution_count": null,
   "metadata": {},
   "outputs": [],
   "source": [
    "#bathrooms/bedroom vs. price\n",
    "sns.scatterplot(df_pp.bathrooms, df_pp.price)"
   ]
  },
  {
   "cell_type": "code",
   "execution_count": null,
   "metadata": {},
   "outputs": [],
   "source": [
    "# Create new variable: age of house when sold\n",
    "df_pp['age'] = df_pp.yr_sold - df_pp.yr_built"
   ]
  },
  {
   "cell_type": "code",
   "execution_count": null,
   "metadata": {},
   "outputs": [],
   "source": [
    "df_pp.head()"
   ]
  },
  {
   "cell_type": "code",
   "execution_count": null,
   "metadata": {
    "scrolled": false
   },
   "outputs": [],
   "source": [
    "# Boxplots of price and variables that could be treated as categoricals\n",
    "# floors, view, condition, grade, waterfront, bedrooms, bathrooms, zipcode, yr_built\n",
    "fig, axes = plt.subplots(4,2, figsize = (15,20))\n",
    "\n",
    "sns.boxplot(data = df_pp, x='floors', y = 'price', ax = axes[0,0])\n",
    "\n",
    "sns.boxplot(data = df_pp, x= 'view', y = 'price', ax = axes[0,1])\n",
    "\n",
    "sns.boxplot(data = df_pp, x= 'condition', y = 'price', ax = axes[1,0])\n",
    "\n",
    "sns.boxplot(data = df_pp, x= 'grade', y = 'price', ax = axes[1,1])\n",
    "\n",
    "sns.boxplot(data = df_pp, x= 'waterfront', y = 'price', ax = axes[2,0])\n",
    "\n",
    "sns.boxplot(data = df_pp, x= 'bedrooms', y = 'price', ax = axes[2,1])\n",
    "\n",
    "sns.boxplot(data = df_pp, x= 'bathrooms', y = 'price', ax = axes[3,0])"
   ]
  },
  {
   "cell_type": "markdown",
   "metadata": {},
   "source": [
    "- grade, bathrooms, views have clearest positive relationships with price.\n",
    "- floors: more floors are associated with a higher price, up to a certain number of floors. More than 3 floors is related with lower price compared to 2 and 2.5 floors.\n",
    "- bedrooms: more bedrooms are associated with a higher price, up to 4 bedrooms. After that, it does not look like homes with additional bedrooms are sold at a much higher price.\n",
    "- condition: values 3, 4, and 5 associated with higher price.\n",
    "- floors and bedrooms could be treated as categorical in order to better determine the characteristics of each one that are associated with price."
   ]
  },
  {
   "cell_type": "code",
   "execution_count": null,
   "metadata": {},
   "outputs": [],
   "source": [
    "# for presenation slides\n",
    "\n",
    "fig, ax = plt.subplots(figsize = (5,6))\n",
    "\n",
    "sns.boxplot(data = df_pp, x= 'grade', y = 'price')\n",
    "\n",
    "ax.set(xlabel='Building Grade', ylabel='Home Price ($)')\n",
    "\n",
    "ax.set_ylim([0, 1600000])\n",
    "ax.yaxis.set_major_formatter(StrMethodFormatter('{x:,.0f}'))\n",
    "\n",
    "sns.despine()\n",
    "\n",
    "fig.suptitle('Grade', size=13)\n",
    "fig.subplots_adjust(top=0.9)"
   ]
  },
  {
   "cell_type": "code",
   "execution_count": null,
   "metadata": {},
   "outputs": [],
   "source": [
    "# for presentation slides\n",
    "\n",
    "fig, ax = plt.subplots(figsize = (5,6))\n",
    "\n",
    "#order = df_processed.groupby(by=[\"condition_labels\"])[\"price\"].median().sort_values().index\n",
    "\n",
    "sns.boxplot(data = df_pp, x= 'bathrooms', y = 'price')\n",
    "\n",
    "ax.set(xlabel='Number of Bathrooms', ylabel='Home Price ($)')\n",
    "\n",
    "ax.tick_params(axis=\"x\", rotation=90)\n",
    "\n",
    "ax.set_ylim([0, 1600000])\n",
    "ax.yaxis.set_major_formatter(StrMethodFormatter('{x:,.0f}'))\n",
    "\n",
    "sns.despine()\n",
    "\n",
    "fig.suptitle('Bathrooms', size=13)\n",
    "fig.subplots_adjust(top=0.9)"
   ]
  },
  {
   "cell_type": "code",
   "execution_count": null,
   "metadata": {
    "scrolled": true
   },
   "outputs": [],
   "source": [
    "fig, axes = plt.subplots(3, figsize = (10,10))\n",
    "\n",
    "#yr_built boxplot\n",
    "yr_built_boxplot = sns.boxplot(data = df_pp, x= 'yr_built', y = 'price', ax = axes[0])\n",
    "axes[0].tick_params(axis=\"x\", rotation=90)\n",
    "# reduce x-tick label frequency to make more readable\n",
    "axes[0].set_xticks(np.arange(0, 120, 5))\n",
    "axes[0].set_xticklabels(np.arange(1900, 2020, 5))\n",
    "\n",
    "#age boxplot\n",
    "yr_built_boxplot = sns.boxplot(data = df_pp, x= 'age', y = 'price', ax = axes[1])\n",
    "axes[1].tick_params(axis=\"x\", rotation=90)\n",
    "# reduce x-tick label frequency to make more readable\n",
    "axes[1].set_xticks(np.arange(0, 120, 5))\n",
    "axes[1].set_xticklabels(np.arange(0, 120, 5))\n",
    "\n",
    "#zipcode boxplot        \n",
    "zipcode_boxplot = sns.boxplot(data = df_pp, x= 'zipcode', y = 'price', ax = axes[2])\n",
    "axes[2].tick_params(axis=\"x\", rotation=90)"
   ]
  },
  {
   "cell_type": "markdown",
   "metadata": {},
   "source": [
    "- yr_built does not have strong linear relationship with price, but it seems that some periods are associated with higher/lower prices. Explore whether treating as categorical variables would help.\n",
    "- Zipcode also does not have clear linear relationship with price.\n",
    "- yr_built and zipcode are candidates for one hot encoding. There is no ordering or relationship between the categories and price."
   ]
  },
  {
   "cell_type": "code",
   "execution_count": null,
   "metadata": {},
   "outputs": [],
   "source": [
    "# Explore age distribution and price by age\n",
    "df_pp.yr_built.describe()"
   ]
  },
  {
   "cell_type": "code",
   "execution_count": null,
   "metadata": {},
   "outputs": [],
   "source": [
    "mean_price_by_yr_built = df_pp.groupby('yr_built')['price'].mean()\n",
    "mean_price_by_yr_built.sort_values(ascending=True)"
   ]
  },
  {
   "cell_type": "code",
   "execution_count": null,
   "metadata": {},
   "outputs": [],
   "source": [
    "df_pp.price.mean()"
   ]
  },
  {
   "cell_type": "code",
   "execution_count": null,
   "metadata": {
    "scrolled": true
   },
   "outputs": [],
   "source": [
    "fig, ax = plt.subplots(figsize = (8,5))\n",
    "\n",
    "data = df_pp\n",
    "data['price_mean'] = df_pp.price.mean()\n",
    "\n",
    "barplot = mean_price_by_yr_built.plot(kind='bar', color='powderblue', label='Mean price by Year Built')\n",
    "data['price_mean'].plot(kind='line', color = 'navy', label = 'Mean price of Sample: $504,333')\n",
    "\n",
    "plt.ylabel('Mean Price ($)',size=12)\n",
    "current_values = plt.gca().get_yticks()\n",
    "plt.gca().set_yticklabels(['{:,.0f}'.format(x) for x in current_values])\n",
    "\n",
    "plt.xlabel('Year Built', size=12)\n",
    "plt.xticks(rotation=90)\n",
    "ax.set_xticks(np.arange(0, 120, 5))\n",
    "ax.set_xticklabels(np.arange(1900,2020,5))\n",
    "\n",
    "plt.legend(loc='upper center', borderaxespad=0.2, edgecolor='white', fontsize=12)\n",
    "fig.suptitle('Mean Price by Year Built', fontsize=15)\n",
    "fig.subplots_adjust(top=0.94)\n",
    "\n",
    "ax.spines['top'].set_visible(False)\n",
    "ax.spines['right'].set_visible(False)\n",
    "\n",
    "plt.show();"
   ]
  },
  {
   "cell_type": "markdown",
   "metadata": {},
   "source": [
    "- Homes built in the early 1900 up to 1930s, and newer homes built from 1990 onwards generally are sold at prices above the sample mean price of $504,333. Homes built from 1940-1990 generally are sold at prices below the sample mean price."
   ]
  },
  {
   "cell_type": "code",
   "execution_count": null,
   "metadata": {},
   "outputs": [],
   "source": [
    "#Explore zipcode distribution\n",
    "sns.distplot(df_pp.zipcode)\n",
    "plt.title('Distribution of Zipcode')"
   ]
  },
  {
   "cell_type": "code",
   "execution_count": null,
   "metadata": {},
   "outputs": [],
   "source": [
    "# Find average price by zipcode\n",
    "mean_price_by_zip = df_pp.groupby('zipcode')['price'].mean()\n",
    "mean_price_by_zip.sort_values(ascending=True)"
   ]
  },
  {
   "cell_type": "code",
   "execution_count": null,
   "metadata": {},
   "outputs": [],
   "source": [
    "df_pp.zipcode.mean()"
   ]
  },
  {
   "cell_type": "code",
   "execution_count": null,
   "metadata": {
    "scrolled": true
   },
   "outputs": [],
   "source": [
    "# Plot average price by zipcode, and add line chart representing sample's mean price.\n",
    "\n",
    "fig, ax = plt.subplots(figsize = (5,6))\n",
    "data = df_pp\n",
    "data['price_mean'] = data.price.mean()\n",
    "\n",
    "mean_price_by_zip.plot(kind='bar', color='powderblue', label='Mean Price by Zipcode')\n",
    "data['price_mean'].plot(kind='line', color = 'mediumblue', label = 'Mean Price of Sample: $504,333')\n",
    "\n",
    "plt.ylabel('Mean Price ($)',size=12)\n",
    "current_values = plt.gca().get_yticks()\n",
    "plt.gca().set_yticklabels(['{:,.0f}'.format(x) for x in current_values])\n",
    "\n",
    "plt.xlabel('Zipcodes', size=12)\n",
    "plt.xticks([])\n",
    "\n",
    "plt.legend(loc='upper right', borderaxespad=0.2, edgecolor='white', fontsize=12)\n",
    "fig.suptitle('Mean Price: Sample and Zipcodes', fontsize=15)\n",
    "fig.subplots_adjust(top=0.94)\n",
    "\n",
    "ax.spines['top'].set_visible(False)\n",
    "ax.spines['right'].set_visible(False)\n",
    "\n",
    "plt.show();"
   ]
  },
  {
   "cell_type": "code",
   "execution_count": null,
   "metadata": {},
   "outputs": [],
   "source": [
    "# Plot average price by zipcode, and add line chart representing sample's mean price.\n",
    "\n",
    "fig, ax = plt.subplots(figsize = (15,5))\n",
    "data = df_pp\n",
    "data['price_mean'] = data.price.mean()\n",
    "\n",
    "mean_price_by_zip.plot(kind='bar', color='powderblue', label='Mean Price by Zipcode')\n",
    "data['price_mean'].plot(kind='line', color = 'mediumblue', label = 'Mean Price of County: $504,333')\n",
    "\n",
    "plt.ylabel('Mean Price ($)',size=12)\n",
    "current_values = plt.gca().get_yticks()\n",
    "plt.gca().set_yticklabels(['{:,.0f}'.format(x) for x in current_values])\n",
    "\n",
    "plt.xlabel('Zipcodes', size=12)\n",
    "plt.xticks(rotation=90)\n",
    "\n",
    "plt.legend(loc='upper right', borderaxespad=0.2, edgecolor='white', fontsize=12)\n",
    "fig.suptitle('Mean Price: County and Zipcodes', fontsize=15)\n",
    "fig.subplots_adjust(top=0.94)\n",
    "\n",
    "ax.spines['top'].set_visible(False)\n",
    "ax.spines['right'].set_visible(False)\n",
    "\n",
    "plt.show();"
   ]
  },
  {
   "cell_type": "markdown",
   "metadata": {},
   "source": [
    "- Zipcode variable does not have normal distribution.\n",
    "- Mean price varies notably by zipcode. Homes in some select zipcodes have higher mean prices than other zipcodes. There is no order in the relationship of zipcode categories and price."
   ]
  },
  {
   "cell_type": "code",
   "execution_count": null,
   "metadata": {},
   "outputs": [],
   "source": [
    "# Explore geolocation data (latitute, longitude)\n",
    "# Scatterplot of longitude (north-south) and latitude (east-west)\n",
    "\n",
    "data = df_pp.rename(columns={'price': 'Price', 'long': 'Longitute', 'lat': 'Latitude'})\n",
    "fig = plt.gcf()\n",
    "\n",
    "fig.set_size_inches(12, 8)\n",
    "\n",
    "sns.scatterplot(data.Longitute, data.Latitude, hue = data.Price,  \\\n",
    "                          palette=\"YlOrRd\", legend=\"brief\").legend(loc='lower right',   \\\n",
    "                                                                   fontsize = 12, frameon = False)\n",
    "\n",
    "plt.xlabel('Longitude',size=14)\n",
    "plt.ylabel('Latitude',size=14)\n",
    "sns.despine()\n",
    "\n",
    "fig.suptitle('Price by Location: Latitude and Longitude', fontsize = 15)\n",
    "fig.subplots_adjust(top=0.95)"
   ]
  },
  {
   "cell_type": "code",
   "execution_count": null,
   "metadata": {},
   "outputs": [],
   "source": [
    "# Number of zipcodes with mean price > sample mean price and number with mean price < sample mean price\n",
    "price_sample_mean = df_pp.price.mean()\n",
    "(mean_price_by_zip >= price_sample_mean).value_counts()"
   ]
  },
  {
   "cell_type": "markdown",
   "metadata": {},
   "source": [
    "- 33 zipcodes have mean price that is greater than the sample's mean price of $504,333.\n",
    "- 37 zipcodes have mean price that is below sample's mean price."
   ]
  },
  {
   "cell_type": "code",
   "execution_count": null,
   "metadata": {},
   "outputs": [],
   "source": [
    "df_pp.columns"
   ]
  },
  {
   "cell_type": "code",
   "execution_count": null,
   "metadata": {},
   "outputs": [],
   "source": [
    "ax = sns.boxplot(x=\"lat\", data=df_pp, orient='v')"
   ]
  },
  {
   "cell_type": "code",
   "execution_count": null,
   "metadata": {},
   "outputs": [],
   "source": [
    "sns.pairplot(data=df_pp,\n",
    "            x_vars=['lat'],\n",
    "            y_vars=['price'], \n",
    "            kind=\"reg\",\n",
    "            height = 5)"
   ]
  },
  {
   "cell_type": "markdown",
   "metadata": {},
   "source": [
    "- Location (in this case, determined by latitude) is an important feature of housing prices, but the relationship is not linear."
   ]
  },
  {
   "cell_type": "markdown",
   "metadata": {},
   "source": [
    "#### Locate and load city zipcodes.  This will help make zipcode data more interpretable."
   ]
  },
  {
   "cell_type": "markdown",
   "metadata": {},
   "source": [
    "- Data on zipcodes by city obtained from King County GIS Open Data \n",
    "- https://gis-kingcounty.opendata.arcgis.com/datasets/kingcounty::zipcodes-for-king-county-and-surrounding-area-zipcode-area/about"
   ]
  },
  {
   "cell_type": "code",
   "execution_count": null,
   "metadata": {},
   "outputs": [],
   "source": [
    "# Load zipcodes df. This was obtained from King County GIS Open Data\n",
    "df_zips = pd.read_csv('data/zipcodes.csv')"
   ]
  },
  {
   "cell_type": "code",
   "execution_count": null,
   "metadata": {},
   "outputs": [],
   "source": [
    "df_zips.info()"
   ]
  },
  {
   "cell_type": "code",
   "execution_count": null,
   "metadata": {},
   "outputs": [],
   "source": [
    "df_zips.head()"
   ]
  },
  {
   "cell_type": "code",
   "execution_count": null,
   "metadata": {},
   "outputs": [],
   "source": [
    "df_zips.ZIPCODE.nunique()"
   ]
  },
  {
   "cell_type": "code",
   "execution_count": null,
   "metadata": {},
   "outputs": [],
   "source": [
    "df_zips.COUNTY_NAME.value_counts()"
   ]
  },
  {
   "cell_type": "markdown",
   "metadata": {},
   "source": [
    "- The dataset includes zipcodes for other counties. Need to narrow dataset down to only King County."
   ]
  },
  {
   "cell_type": "code",
   "execution_count": null,
   "metadata": {},
   "outputs": [],
   "source": [
    "# Drop columns that are not needed for zipcode, city joining. Keep zipcode, county name, preferred city.\n",
    "df_zips.drop(['OBJECTID', 'ZIP', 'COUNTY', 'ZIP_TYPE', 'Shape_Length', 'Shape_Area'], axis=1, inplace=True)"
   ]
  },
  {
   "cell_type": "code",
   "execution_count": null,
   "metadata": {},
   "outputs": [],
   "source": [
    "# Rename columns\n",
    "column_names = {'ZIPCODE':'zipcode', 'COUNTY_NAME':'county', 'PREFERRED_CITY':'city'}\n",
    "df_zips.rename(columns=column_names, inplace=True)"
   ]
  },
  {
   "cell_type": "code",
   "execution_count": null,
   "metadata": {},
   "outputs": [],
   "source": [
    "# Drop zipcodes that are not in King County\n",
    "df_zips = df_zips[df_zips['county']==\"King County\"]\n",
    "df_zips.shape"
   ]
  },
  {
   "cell_type": "code",
   "execution_count": null,
   "metadata": {},
   "outputs": [],
   "source": [
    "df_zips.county.value_counts()"
   ]
  },
  {
   "cell_type": "code",
   "execution_count": null,
   "metadata": {},
   "outputs": [],
   "source": [
    "# Convert City values from all caps to title case. Replace space with underscore in County and City values.\n",
    "df_zips.head()"
   ]
  },
  {
   "cell_type": "code",
   "execution_count": null,
   "metadata": {},
   "outputs": [],
   "source": [
    "df_zips.city = df_zips.city.str.title().replace(\" \", \"_\", regex=True)"
   ]
  },
  {
   "cell_type": "code",
   "execution_count": null,
   "metadata": {},
   "outputs": [],
   "source": [
    "df_zips.county = df_zips.county.str.title().replace(\" \", \"_\", regex=True)"
   ]
  },
  {
   "cell_type": "code",
   "execution_count": null,
   "metadata": {},
   "outputs": [],
   "source": [
    "df_zips"
   ]
  },
  {
   "cell_type": "code",
   "execution_count": null,
   "metadata": {},
   "outputs": [],
   "source": [
    "df_zips.city.value_counts()"
   ]
  },
  {
   "cell_type": "code",
   "execution_count": null,
   "metadata": {},
   "outputs": [],
   "source": [
    "df_zips.city.replace('Sammamiish', 'Sammamish', inplace=True)\n",
    "df_zips.city.value_counts()"
   ]
  },
  {
   "cell_type": "code",
   "execution_count": null,
   "metadata": {},
   "outputs": [],
   "source": [
    "#Create dictionary with key, value: zipcode, city\n",
    "zips_dictionary = dict(zip(df_zips.zipcode, df_zips.city))\n",
    "zips_dictionary"
   ]
  },
  {
   "cell_type": "code",
   "execution_count": null,
   "metadata": {},
   "outputs": [],
   "source": [
    "# Create new column in df_pp that has zipcode values. \n",
    "df_pp['city'] = df_pp.zipcode\n",
    "df_pp['city']"
   ]
  },
  {
   "cell_type": "code",
   "execution_count": null,
   "metadata": {},
   "outputs": [],
   "source": [
    "# Call on dictionary to replace zipcode values in new column with city names.\n",
    "df_pp.replace({'city': zips_dictionary}, inplace=True)"
   ]
  },
  {
   "cell_type": "code",
   "execution_count": null,
   "metadata": {},
   "outputs": [],
   "source": [
    "df_pp.head()"
   ]
  },
  {
   "cell_type": "code",
   "execution_count": null,
   "metadata": {},
   "outputs": [],
   "source": [
    "df_pp.city.value_counts()"
   ]
  },
  {
   "cell_type": "code",
   "execution_count": null,
   "metadata": {},
   "outputs": [],
   "source": [
    "# Mean price by city\n",
    "mean_price_by_city = df_pp.groupby('city')['price'].mean()\n",
    "mean_price_by_city.sort_values(ascending=True)"
   ]
  },
  {
   "cell_type": "code",
   "execution_count": null,
   "metadata": {},
   "outputs": [],
   "source": [
    "# Plot average price by city, and add line chart representing mean price.\n",
    "\n",
    "fig, ax = plt.subplots(figsize = (8,4))\n",
    "data = df_pp\n",
    "data['price_mean'] = data.price.mean()\n",
    "\n",
    "mean_price_by_city.sort_values(ascending=True).plot(kind='bar', color='powderblue', label='Mean Price by City')\n",
    "data['price_mean'].plot(kind='line', color = 'mediumblue', label = 'Mean Price of King County: $504,333')\n",
    "\n",
    "plt.ylabel('Mean Price ($)',size=12)\n",
    "current_values = plt.gca().get_yticks()\n",
    "plt.gca().set_yticklabels(['{:,.0f}'.format(x) for x in current_values])\n",
    "\n",
    "plt.xlabel('City', size=12)\n",
    "plt.xticks(rotation=90)\n",
    "ax.set_ylim([0, 1500000])\n",
    "\n",
    "plt.legend(loc='upper left', borderaxespad=0.2, edgecolor='white', fontsize=11)\n",
    "fig.suptitle('Home Prices: County and City', fontsize=15)\n",
    "fig.subplots_adjust(top=0.94)\n",
    "\n",
    "ax.spines['top'].set_visible(False)\n",
    "ax.spines['right'].set_visible(False)\n",
    "\n",
    "plt.show();"
   ]
  },
  {
   "cell_type": "code",
   "execution_count": null,
   "metadata": {},
   "outputs": [],
   "source": [
    "# Create new variables: price per sqft, and mean price per sqft by city\n",
    "df_pp['price_sqft'] = df_pp.price / df_pp.sqft_above\n",
    "mean_price_sqft_by_city = df_pp.groupby('city')['price_sqft'].mean()\n",
    "mean_price_sqft_by_city.sort_values(ascending=True)"
   ]
  },
  {
   "cell_type": "code",
   "execution_count": null,
   "metadata": {
    "scrolled": true
   },
   "outputs": [],
   "source": [
    "fig, ax = plt.subplots(figsize = (8,4))\n",
    "data = df_pp\n",
    "\n",
    "data['price_sqft_mean'] = data.price_sqft.mean()\n",
    "\n",
    "mean_price_sqft_by_city.sort_values(ascending=True).plot(kind='bar', color='lightgray', label='Mean Price per Sqft by City')\n",
    "data['price_sqft_mean'].plot(kind='line', color = 'blue', label = 'Mean Price per Sqft of King County: $309')\n",
    "\n",
    "plt.ylabel('Mean Price per Sqft ($)',size=12)\n",
    "current_values = plt.gca().get_yticks()\n",
    "plt.gca().set_yticklabels(['{:,.0f}'.format(x) for x in current_values])\n",
    "\n",
    "plt.xlabel('City', size=12)\n",
    "plt.xticks(rotation=90)\n",
    "ax.set_ylim([0, 800])\n",
    "\n",
    "plt.legend(loc='upper left', borderaxespad=0.2, edgecolor='white', fontsize=11)\n",
    "fig.suptitle('Home Prices per Square Foot: County and City', fontsize=15)\n",
    "fig.subplots_adjust(top=0.94)\n",
    "\n",
    "ax.spines['top'].set_visible(False)\n",
    "ax.spines['right'].set_visible(False)\n",
    "\n",
    "plt.show();\n"
   ]
  },
  {
   "cell_type": "markdown",
   "metadata": {},
   "source": [
    "- Five cities have mean price/sqft above the county mean, down from ten cities that have mean price above the county mean."
   ]
  },
  {
   "cell_type": "code",
   "execution_count": null,
   "metadata": {},
   "outputs": [],
   "source": [
    "data.columns"
   ]
  },
  {
   "cell_type": "markdown",
   "metadata": {},
   "source": [
    "# Data Transformation\n",
    "- Create dummy variables\n",
    "- Check for multicollinearity\n",
    "- Normalize variables"
   ]
  },
  {
   "cell_type": "code",
   "execution_count": null,
   "metadata": {},
   "outputs": [],
   "source": [
    "df_pp.columns"
   ]
  },
  {
   "cell_type": "code",
   "execution_count": null,
   "metadata": {},
   "outputs": [],
   "source": [
    "# New df for processing. Df is comprised of variables of interest. \n",
    "# Drop variables that are unique identifiers and are not home features. Drop yr_built, keep age since these are correlated nearly 1:1.\n",
    "df_processed = df_pp.drop(['id', 'date', 'view','yr_built','yr_sold', 'quarter_sold','month_sold','day_of_week_sold', 'price_mean', 'view'], axis=1)\n",
    "df_processed.columns"
   ]
  },
  {
   "cell_type": "code",
   "execution_count": null,
   "metadata": {},
   "outputs": [],
   "source": [
    "# Plot heatmap of correlation matrix, including the target and predictive variables\n",
    "\n",
    "fig, ax = plt.subplots(figsize=(15, 10))\n",
    "sns.heatmap(df_processed.corr().round(2),\n",
    "            ax = ax,\n",
    "            annot= True, center=0, cmap=\"YlGnBu\",\n",
    "            cbar_kws={\"label\": \"Correlation\", \"orientation\": \"vertical\", \"pad\": .05}\n",
    ")\n",
    "\n",
    "ax.set_title(\"Heatmap of Correlation Between Features (Includes Price Target)\");"
   ]
  },
  {
   "cell_type": "markdown",
   "metadata": {},
   "source": [
    "- Selecting which variables to drop because of multicollinearity (correlation >= .75).\n",
    "- sqft_living and sqft_above exhibit multicollinearity, with correlation of 86%. Keep sqft_above because it is less highly correlated with other features of interest such as grade and bathrooms, and because most people want to live above ground. Create sqft_basement dummy, and remove sqft_basement (which is component of sqft_living).\n",
    "- sqft_living and sqft_above are highly correlated iwth sqft_living15. Drop sqft_living15.\n",
    "- sqft_living and grade have high correlation (74%), below 75% threshold, but both are most correlated with price. Consider treating one hot encoding grade, so can use grade dummies in model along with sqft_living.\n",
    "- yr_built and age are nearly perfectly inversely correlated. Drop age."
   ]
  },
  {
   "cell_type": "code",
   "execution_count": null,
   "metadata": {},
   "outputs": [],
   "source": [
    "# Create dummy variable for basement before dropping sqft_basement from features of interest selection\n",
    "df_processed.sqft_basement.value_counts()"
   ]
  },
  {
   "cell_type": "code",
   "execution_count": null,
   "metadata": {},
   "outputs": [],
   "source": [
    "df_processed['basement'] = df_processed.sqft_basement\n",
    "df_processed['basement'] = np.where(df_processed.sqft_basement != 0, 1, df_processed['basement'])\n",
    "df_processed['basement']"
   ]
  },
  {
   "cell_type": "code",
   "execution_count": null,
   "metadata": {},
   "outputs": [],
   "source": [
    "df_processed.basement.value_counts()"
   ]
  },
  {
   "cell_type": "code",
   "execution_count": null,
   "metadata": {},
   "outputs": [],
   "source": [
    "# Variables that could be treated as categoricals and be candidates for dummy variable creation\n",
    "categoricals = ['floors'],['grade'],['condition'],['bedrooms'],['zipcode'],['city']\n",
    "categoricals\n",
    "\n",
    "# other candidates that could be treated as categorical: ['bathrooms']"
   ]
  },
  {
   "cell_type": "code",
   "execution_count": null,
   "metadata": {},
   "outputs": [],
   "source": [
    "# Visualize categorical variables and price\n",
    "fig, axes = plt.subplots(3,2, sharey=True, figsize=(10,10))\n",
    "\n",
    "for col, ax in zip(categoricals, axes.flatten()):\n",
    "    (df_processed.groupby(col)\n",
    "        .mean()['price']\n",
    "        .sort_values()\n",
    "        .plot.bar(ax=ax))\n",
    "    #ax.set_title(col)\n",
    "    ax.set_ylabel('price')\n",
    "\n",
    "fig.tight_layout()    "
   ]
  },
  {
   "cell_type": "markdown",
   "metadata": {},
   "source": [
    "### Categorical Variables: Dummies and One Hot Encoding"
   ]
  },
  {
   "cell_type": "code",
   "execution_count": null,
   "metadata": {},
   "outputs": [],
   "source": [
    "# create dummy for yr_renovated: y/n\n",
    "df_processed['renovated'] = np.where(df_processed['yr_renovated']> 0, 1, 0)\n",
    "df_processed.head()"
   ]
  },
  {
   "cell_type": "code",
   "execution_count": null,
   "metadata": {},
   "outputs": [],
   "source": [
    "df_processed.renovated.value_counts()"
   ]
  },
  {
   "cell_type": "code",
   "execution_count": null,
   "metadata": {},
   "outputs": [],
   "source": [
    "# for project slides\n",
    "\n",
    "fig, ax = plt.subplots(figsize = (5,7))\n",
    "\n",
    "ax = sns.boxplot(x=\"renovated\", y='price', data=df_processed, orient='v', palette=\"Blues\")\n",
    "\n",
    "ax.set(xlabel='Renovated', ylabel='Home Price ($)')\n",
    "\n",
    "ax.tick_params(axis=(\"x\"), rotation=90)\n",
    "\n",
    "ax.set_ylim([0, 1600000])\n",
    "ax.yaxis.set_major_formatter(StrMethodFormatter('{x:,.0f}'))\n",
    "\n",
    "sns.despine()\n",
    "\n",
    "fig.suptitle('Home Has Been Renovated', size=13)\n",
    "fig.subplots_adjust(top=0.9)"
   ]
  },
  {
   "cell_type": "code",
   "execution_count": null,
   "metadata": {},
   "outputs": [],
   "source": [
    "df_processed.columns"
   ]
  },
  {
   "cell_type": "code",
   "execution_count": null,
   "metadata": {},
   "outputs": [],
   "source": [
    "# Floors variable suggests that price drops if there too many floors.\n",
    "# ohe for levels (one level, two levels, three-plus levels). Half floors round up (eg, 2.5 floors = 3 levels)\n",
    "# Get sense of if people pay more or less for single level vs. multi-level homes. Do people prefer single or multi-story?\n",
    "\n",
    "bins = pd.IntervalIndex.from_tuples([(0,1), (1,2), (2, 3.5)])\n",
    "\n",
    "levels_bins = pd.cut(df_processed['floors'], bins)\n",
    "\n",
    "levels_bins.categories = ['levels_single','levels_two', 'levels_threeplus']\n",
    "\n",
    "levels_dummies = pd.get_dummies(levels_bins.cat.rename_categories(levels_bins.categories), drop_first=True)\n",
    "\n",
    "levels_dummies"
   ]
  },
  {
   "cell_type": "code",
   "execution_count": null,
   "metadata": {},
   "outputs": [],
   "source": [
    "levels_dummies.levels_two.value_counts()"
   ]
  },
  {
   "cell_type": "code",
   "execution_count": null,
   "metadata": {},
   "outputs": [],
   "source": [
    "# ohe for number of floors\n",
    "bins = pd.IntervalIndex.from_tuples([(0,1), (1,1.5), (1.5,2), (2,2.5), (2.5,3), (3,3.5)])\n",
    "\n",
    "fl_bins = pd.cut(df_pp['floors'], bins)\n",
    "\n",
    "fl_bins.categories = ['floors_1','floors_1.5', 'floors_2','floors_2.5', 'floors_3', 'floors_3.5']\n",
    "\n",
    "fl_number_dummies = pd.get_dummies(fl_bins.cat.rename_categories(fl_bins.categories), drop_first=True)\n",
    "\n",
    "fl_number_dummies"
   ]
  },
  {
   "cell_type": "code",
   "execution_count": null,
   "metadata": {},
   "outputs": [],
   "source": [
    "levels_dummies_test = pd.concat([df_processed.price, df_processed.floors, levels_dummies, fl_number_dummies], axis=1)"
   ]
  },
  {
   "cell_type": "code",
   "execution_count": null,
   "metadata": {},
   "outputs": [],
   "source": [
    "fig, ax = plt.subplots(1,3, figsize=(15,5))\n",
    "sns.boxplot(data=df_processed, x='floors', y='price', ax = ax[0])\n",
    "sns.boxplot(data=levels_dummies_test, x='levels_two', y='price', ax = ax[1])\n",
    "sns.boxplot(data=levels_dummies_test, x='levels_threeplus', y='price', ax = ax[2])"
   ]
  },
  {
   "cell_type": "code",
   "execution_count": null,
   "metadata": {},
   "outputs": [],
   "source": [
    "levels_dummies_test.corr().round(2)"
   ]
  },
  {
   "cell_type": "markdown",
   "metadata": {},
   "source": [
    "- Select levels_two and levels_threeplus for model. Levels_two has same price correlation as floors-price correlation (27%), but add more granular insights."
   ]
  },
  {
   "cell_type": "code",
   "execution_count": null,
   "metadata": {},
   "outputs": [],
   "source": [
    "# ohe grade\n",
    "grade_cat = 'grade'\n",
    "grade_dummies = pd.get_dummies(df_processed.grade, prefix=grade_cat, drop_first=True)\n",
    "grade_dummies"
   ]
  },
  {
   "cell_type": "code",
   "execution_count": null,
   "metadata": {},
   "outputs": [],
   "source": [
    "grade_dummies_test_df = pd.concat([df_processed.price, df_processed.grade, grade_dummies], axis=1)"
   ]
  },
  {
   "cell_type": "code",
   "execution_count": null,
   "metadata": {},
   "outputs": [],
   "source": [
    "grade_dummies_test_df.corr()"
   ]
  },
  {
   "cell_type": "markdown",
   "metadata": {},
   "source": [
    "- grades 6, 7, 9, 10, 11, 12 have strongest correlations with price. Grade variable is not strongly correlated with the grade dummy variables."
   ]
  },
  {
   "cell_type": "code",
   "execution_count": null,
   "metadata": {},
   "outputs": [],
   "source": [
    "# Prepare condition for ohe\n",
    "df_processed.condition.value_counts()"
   ]
  },
  {
   "cell_type": "code",
   "execution_count": null,
   "metadata": {},
   "outputs": [],
   "source": [
    "pd.cut(df_processed['condition'], [0,2.9, 3, 5]).value_counts()"
   ]
  },
  {
   "cell_type": "code",
   "execution_count": null,
   "metadata": {},
   "outputs": [],
   "source": [
    "# Label encode categorical dummies\n",
    "cond_labels = {1: \"poor\", 2: \"fair\", 3: \"average\", 4: \"good\", 5: \"very_good\"}\n",
    "df_processed['condition_labels'] = df_processed.condition\n",
    "df_processed.replace({'condition_labels': cond_labels}, inplace=True)"
   ]
  },
  {
   "cell_type": "code",
   "execution_count": null,
   "metadata": {},
   "outputs": [],
   "source": [
    "# ohe condition \n",
    "condition_cat = 'condition'\n",
    "condition_dummies = pd.get_dummies(df_processed.condition_labels, prefix=condition_cat)\n",
    "condition_dummies.drop('condition_poor', axis=1, inplace=True)"
   ]
  },
  {
   "cell_type": "code",
   "execution_count": null,
   "metadata": {},
   "outputs": [],
   "source": [
    "df_pp.condition.value_counts()"
   ]
  },
  {
   "cell_type": "code",
   "execution_count": null,
   "metadata": {},
   "outputs": [],
   "source": [
    "df_processed.condition_labels.value_counts()"
   ]
  },
  {
   "cell_type": "code",
   "execution_count": null,
   "metadata": {},
   "outputs": [],
   "source": [
    "df_processed.groupby(by=[\"condition_labels\"])[\"price\"].median().sort_values().index"
   ]
  },
  {
   "cell_type": "code",
   "execution_count": null,
   "metadata": {
    "scrolled": true
   },
   "outputs": [],
   "source": [
    "# chart for presentation slides\n",
    "\n",
    "fig, ax = plt.subplots(figsize = (5,6))\n",
    "\n",
    "order = df_processed.groupby(by=[\"condition_labels\"])[\"price\"].median().sort_values().index\n",
    "\n",
    "sns.boxplot(data = df_processed, x= 'condition_labels', y = 'price', order=order)\n",
    "\n",
    "ax.set(xlabel='Building Condition', ylabel='Home Price ($)')\n",
    "\n",
    "ax.set_ylim([0, 1600000])\n",
    "ax.yaxis.set_major_formatter(StrMethodFormatter('{x:,.0f}'))\n",
    "\n",
    "sns.despine()\n",
    "\n",
    "fig.suptitle('Condition', size=13)\n",
    "fig.subplots_adjust(top=0.9)"
   ]
  },
  {
   "cell_type": "code",
   "execution_count": null,
   "metadata": {},
   "outputs": [],
   "source": [
    "sns.boxplot(data = df_pp, x= 'condition', y = 'price')"
   ]
  },
  {
   "cell_type": "code",
   "execution_count": null,
   "metadata": {},
   "outputs": [],
   "source": [
    "condition_dummies_test_df = pd.concat([condition_dummies, df_processed['condition'], df_processed['price']], axis=1)\n",
    "                                  "
   ]
  },
  {
   "cell_type": "code",
   "execution_count": null,
   "metadata": {},
   "outputs": [],
   "source": [
    "#Examine relationships between condition, new dummy variables for condition, and price\n",
    "condition_dummies_test_df.corr().round(2)"
   ]
  },
  {
   "cell_type": "code",
   "execution_count": null,
   "metadata": {},
   "outputs": [],
   "source": [
    "test_data = condition_dummies_test_df\n",
    "fig, axes = plt.subplots(2,2, figsize=(8,6))\n",
    "fig.suptitle('Price by Condition')\n",
    "sns.boxplot(ax=axes[0,0], data=test_data, x='condition_fair', y='price')\n",
    "sns.boxplot(ax=axes[0,1], data=test_data, x='condition_average', y='price')\n",
    "sns.boxplot(ax=axes[1,0], data=test_data, x='condition_good', y='price')\n",
    "sns.boxplot(ax=axes[1,1], data=test_data, x='condition_very_good', y='price')\n",
    "plt.tight_layout()"
   ]
  },
  {
   "cell_type": "markdown",
   "metadata": {},
   "source": [
    "- Condition: no clear ordering of condition values and higher price. \n",
    "- Looks like values of average, good, and very good are associated with higher price, with not much difference between them. Values of poor and fair are associated with lower price."
   ]
  },
  {
   "cell_type": "code",
   "execution_count": null,
   "metadata": {},
   "outputs": [],
   "source": [
    "# ohe bedrooms\n",
    "bedrooms_cat = 'bedrooms'\n",
    "bedrooms_dummies = pd.get_dummies(df_processed.bedrooms, prefix=bedrooms_cat, drop_first=True)\n",
    "bedrooms_dummies"
   ]
  },
  {
   "cell_type": "code",
   "execution_count": null,
   "metadata": {},
   "outputs": [],
   "source": [
    "bedrooms_dummies_test_df = pd.concat([df_processed.price, df_processed.bedrooms, bedrooms_dummies], axis=1)"
   ]
  },
  {
   "cell_type": "code",
   "execution_count": null,
   "metadata": {},
   "outputs": [],
   "source": [
    "bedrooms_dummies_test_df.corr().round(2)"
   ]
  },
  {
   "cell_type": "code",
   "execution_count": null,
   "metadata": {},
   "outputs": [],
   "source": [
    "# ohe bathrooms\n",
    "bathrooms_cat = 'bathrooms'\n",
    "bathrooms_dummies = pd.get_dummies(df_pp.bathrooms, prefix=bathrooms_cat, drop_first=True)\n",
    "bathrooms_dummies"
   ]
  },
  {
   "cell_type": "code",
   "execution_count": null,
   "metadata": {},
   "outputs": [],
   "source": [
    "bathrooms_dummies_test_df = pd.concat([df_pp.price, df_pp.bathrooms, bathrooms_dummies], axis=1)"
   ]
  },
  {
   "cell_type": "code",
   "execution_count": null,
   "metadata": {},
   "outputs": [],
   "source": [
    "bathrooms_dummies_test_df.corr()"
   ]
  },
  {
   "cell_type": "code",
   "execution_count": null,
   "metadata": {},
   "outputs": [],
   "source": [
    "# ohe city\n",
    "city_dummies = pd.get_dummies(df_pp.city, prefix= 'city', drop_first=False)\n",
    "city_dummies"
   ]
  },
  {
   "cell_type": "code",
   "execution_count": null,
   "metadata": {},
   "outputs": [],
   "source": [
    "#Since did not drop_first in ohe above, drop \"city_Seattle\" to make Seattle the reference city in the city dummy variable interpretation\n",
    "city_dummies.drop(['city_Seattle'], axis=1, inplace=True)"
   ]
  },
  {
   "cell_type": "code",
   "execution_count": null,
   "metadata": {},
   "outputs": [],
   "source": [
    "city_dummies_test_df = pd.concat([df_pp.price, city_dummies], axis=1)\n",
    "city_dummies_test_df.corr()"
   ]
  },
  {
   "cell_type": "code",
   "execution_count": null,
   "metadata": {},
   "outputs": [],
   "source": [
    "df_processed.columns"
   ]
  },
  {
   "cell_type": "code",
   "execution_count": null,
   "metadata": {},
   "outputs": [],
   "source": [
    "df_processed = pd.concat([df_processed, levels_dummies, fl_number_dummies, grade_dummies, condition_dummies,\n",
    "                         bedrooms_dummies, bathrooms_dummies, city_dummies], axis=1)\n",
    "df_processed.shape"
   ]
  },
  {
   "cell_type": "code",
   "execution_count": null,
   "metadata": {},
   "outputs": [],
   "source": [
    "df_processed.columns"
   ]
  },
  {
   "cell_type": "code",
   "execution_count": null,
   "metadata": {},
   "outputs": [],
   "source": [
    "# Create dummies list\n",
    "dummies = ['levels_two', 'levels_threeplus', 'floors_1.5', 'floors_2',\n",
    "       'floors_2.5', 'floors_3', 'floors_3.5','grade_4', 'grade_5', 'grade_6', 'grade_7',\n",
    "       'grade_8', 'grade_9', 'grade_10', 'grade_11', 'grade_12', 'condition_2',\n",
    "       'condition_3', 'condition_4', 'condition_5', 'condition_average', 'condition_above',\n",
    "        'bedrooms_2', 'bedrooms_3', 'bedrooms_4', 'bedrooms_5', 'bedrooms_6', \n",
    "        'bathrooms_0.75', 'bathrooms_1.0', 'bathrooms_1.25', 'bathrooms_1.5',\n",
    "       'bathrooms_1.75', 'bathrooms_2.0', 'bathrooms_2.25', 'bathrooms_2.5',\n",
    "       'bathrooms_2.75', 'bathrooms_3.0', 'bathrooms_3.25', 'bathrooms_3.5',\n",
    "       'bathrooms_3.75', 'bathrooms_4.0', 'bathrooms_4.25', \n",
    "        'city_Auburn', 'city_Bellevue', 'city_Black_Diamond', 'city_Bothell',\n",
    "       'city_Carnation', 'city_Duvall', 'city_Enumclaw', 'city_Fall_City',\n",
    "       'city_Federal_Way', 'city_Issaquah', 'city_Kenmore', 'city_Kent',\n",
    "       'city_Kirkland', 'city_Maple_Valley', 'city_Medina',\n",
    "       'city_Mercer_Island', 'city_North_Bend', 'city_Redmond', 'city_Renton',\n",
    "       'city_Sammamish', 'city_Seattle', 'city_Snoqualmie', 'city_Vashon',\n",
    "       'city_Woodinville']"
   ]
  },
  {
   "cell_type": "code",
   "execution_count": null,
   "metadata": {},
   "outputs": [],
   "source": [
    "# Re-examine correlations with price, and multicollinearity of variables (including new dummy variables)\n",
    "# Multicollinearity of variables\n",
    "data_test = df_processed\n",
    "\n",
    "df=data_test.corr().round(2).abs().stack().reset_index().sort_values(0, ascending=False)\n",
    "\n",
    "# zip the variable name columns (Which were only named level_0 and level_1 by default) in a new column named \"pairs\"\n",
    "df['pairs'] = list(zip(df.level_0, df.level_1))\n",
    "\n",
    "# set index to pairs\n",
    "df.set_index(['pairs'], inplace = True)\n",
    "\n",
    "#drop level columns\n",
    "df.drop(columns=['level_1', 'level_0'], inplace = True)\n",
    "\n",
    "# rename correlation column as cc rather than 0\n",
    "df.columns = ['cc']\n",
    "\n",
    "df.drop_duplicates(inplace=True)"
   ]
  },
  {
   "cell_type": "code",
   "execution_count": null,
   "metadata": {
    "scrolled": true
   },
   "outputs": [],
   "source": [
    "df[(df.cc>.6) & (df.cc <1)].abs()"
   ]
  },
  {
   "cell_type": "markdown",
   "metadata": {},
   "source": [
    "- list returns many highly correlated pairs, since it includes continuous variables and their dummy variables. Linear regression models (below) will not include such correlated variable-dummy pairs.\n",
    "- grade and sqft_living are most highly correlated with price and should be part of baseline model. However, these two variables are also highly correlated with eachother. Use grade dummies in model, in place of grade.\n",
    "- bathrooms has next highest correlation with price, but it's lower at 49%."
   ]
  },
  {
   "cell_type": "code",
   "execution_count": null,
   "metadata": {},
   "outputs": [],
   "source": [
    "# Plot pairplots for price and grade, sqft_above\n",
    "pp = sns.pairplot(data=df_pp,\n",
    "            x_vars=['grade', 'sqft_above'],\n",
    "            y_vars=['price'], \n",
    "            kind=\"reg\",\n",
    "            height = 5)\n",
    "pp.fig.suptitle('Baseline Model Features')\n",
    "\n",
    "plt.show()"
   ]
  },
  {
   "cell_type": "markdown",
   "metadata": {},
   "source": [
    "## MODELING"
   ]
  },
  {
   "cell_type": "markdown",
   "metadata": {},
   "source": [
    "### Baseline Model"
   ]
  },
  {
   "cell_type": "markdown",
   "metadata": {},
   "source": [
    "- Build Baseline model:\n",
    "    - This baseline model includes sqft_above and grade, which are two independent variables with highest correlations with price. Because sqft_above and grade are correlated somewhat highly at 73.5%, this model includes grade dummy variables and not the continuous grade variable.\n",
    "    - Variables are not logged nor scaled at this point."
   ]
  },
  {
   "cell_type": "code",
   "execution_count": null,
   "metadata": {},
   "outputs": [],
   "source": [
    "data = df_processed\n",
    "X_data = data.drop(['price'], axis=1)"
   ]
  },
  {
   "cell_type": "code",
   "execution_count": null,
   "metadata": {},
   "outputs": [],
   "source": [
    "y = data.price \n",
    "X_model_baseline = data[['sqft_above', 'grade_9','grade_10','grade_11', 'grade_12']] "
   ]
  },
  {
   "cell_type": "code",
   "execution_count": null,
   "metadata": {},
   "outputs": [],
   "source": [
    "X_model_baseline = sm.add_constant(X_model_baseline)"
   ]
  },
  {
   "cell_type": "code",
   "execution_count": null,
   "metadata": {
    "scrolled": true
   },
   "outputs": [],
   "source": [
    "model_baseline = sm.OLS(y, X_model_baseline).fit()\n",
    "model_baseline.summary()"
   ]
  },
  {
   "cell_type": "markdown",
   "metadata": {},
   "source": [
    "- r-squared: baseline model explains 41.7% of variance in dependent variable, price. There is room to improve this model through obtaining a higher r-squared in subsequent model iterations. Follow along for more!\n",
    "- sqft_above and grade_9 - grade_12 are statistically significant. The other grade dummy variables (grade_4 - grade_8) are not statistically different from the dropped grade_3, so these were excluded from the baseline model.\n",
    "- Coefficient signs are positive. \n",
    "    - For every unit increase in sqft_above, price increases by USD 91.7. \n",
    "    - A home with a given grade_9, grade_10, grade_11, and grade_12 would be worth more than a home with grades_4-grade_8 by USD 213.9k, USD 353k, USD 490k, and USD 711k, respectively."
   ]
  },
  {
   "cell_type": "markdown",
   "metadata": {},
   "source": [
    "### Selecting Best Combination of Features"
   ]
  },
  {
   "cell_type": "code",
   "execution_count": null,
   "metadata": {},
   "outputs": [],
   "source": [
    "#Model 2: Add structural features: bathrooms, floor dummies, basement. \n",
    "y = data.price \n",
    "X_model_2 = data[['sqft_above', 'grade_9','grade_10','grade_11', 'grade_12',\n",
    "                  'bathrooms', 'levels_two', 'levels_threeplus', 'basement']]"
   ]
  },
  {
   "cell_type": "code",
   "execution_count": null,
   "metadata": {},
   "outputs": [],
   "source": [
    "model_2 = sm.OLS(y, sm.add_constant(X_model_2)).fit()\n",
    "model_2.summary()"
   ]
  },
  {
   "cell_type": "code",
   "execution_count": null,
   "metadata": {},
   "outputs": [],
   "source": [
    "#Model 3: Add selling features: waterfront, sqft_lot, condition, renovated.\n",
    "y = data.price \n",
    "X_model_3 = data[['sqft_above', 'grade_9','grade_10','grade_11', 'grade_12',\n",
    "                  'bathrooms', 'levels_two', 'levels_threeplus', 'basement',\n",
    "                 'waterfront', 'sqft_lot','condition', 'renovated']]"
   ]
  },
  {
   "cell_type": "code",
   "execution_count": null,
   "metadata": {},
   "outputs": [],
   "source": [
    "model_3 = sm.OLS(y, sm.add_constant(X_model_3)).fit()\n",
    "model_3.summary()"
   ]
  },
  {
   "cell_type": "code",
   "execution_count": null,
   "metadata": {},
   "outputs": [],
   "source": [
    "#Model 4: Add location-related variables--sqft_lot15, city dummy variables.\n",
    "\n",
    "y = data.price \n",
    "X_model_4 = data[['sqft_above', 'grade_9','grade_10','grade_11', 'grade_12',\n",
    "                  'bathrooms', 'levels_two', 'levels_threeplus', 'basement',\n",
    "                 'waterfront', 'sqft_lot','condition', 'renovated','sqft_lot15',\n",
    "                  'city_Auburn', 'city_Bellevue', 'city_Black_Diamond', 'city_Bothell', \n",
    "                  'city_Carnation', 'city_Duvall', 'city_Enumclaw', 'city_Fall_City', \n",
    "                  'city_Federal_Way', 'city_Issaquah', 'city_Kenmore', 'city_Kent', \n",
    "                  'city_Kirkland', 'city_Maple_Valley', 'city_Medina', 'city_Mercer_Island', \n",
    "                  'city_North_Bend', 'city_Redmond', 'city_Renton', 'city_Sammamish', \n",
    "                  'city_Snoqualmie', 'city_Vashon', 'city_Woodinville']]"
   ]
  },
  {
   "cell_type": "code",
   "execution_count": null,
   "metadata": {},
   "outputs": [],
   "source": [
    "model_4 = sm.OLS(y, sm.add_constant(X_model_4)).fit()\n",
    "model_4.summary()"
   ]
  },
  {
   "cell_type": "code",
   "execution_count": null,
   "metadata": {},
   "outputs": [],
   "source": [
    "# Model 5: Drop non-statistically significant variables: sqft_lot15, city_Redmond. Drop condition to reduce multicollinearity.\n",
    "y = data.price \n",
    "X_model_5 = data[['sqft_above', 'grade_9','grade_10','grade_11', 'grade_12',\n",
    "                  'bathrooms', 'levels_two', 'basement',\n",
    "                 'waterfront', 'sqft_lot', 'renovated',\n",
    "                  'city_Auburn', 'city_Bellevue', 'city_Black_Diamond', 'city_Bothell', \n",
    "                  'city_Duvall', 'city_Enumclaw', 'city_Fall_City', \n",
    "                  'city_Federal_Way', 'city_Issaquah', 'city_Kenmore', 'city_Kent', \n",
    "                  'city_Kirkland', 'city_Maple_Valley', 'city_Medina', 'city_Mercer_Island', \n",
    "                  'city_North_Bend', 'city_Renton', 'city_Sammamish', \n",
    "                  'city_Snoqualmie', 'city_Vashon', 'city_Woodinville']]"
   ]
  },
  {
   "cell_type": "code",
   "execution_count": null,
   "metadata": {},
   "outputs": [],
   "source": [
    "model_5 = sm.OLS(y, sm.add_constant(X_model_5)).fit()\n",
    "model_5.summary()"
   ]
  },
  {
   "cell_type": "code",
   "execution_count": null,
   "metadata": {},
   "outputs": [],
   "source": [
    "# Model 6: Replace bathrooms with bathroom dummies\n",
    "y = data.price \n",
    "X_model_6 = data[['sqft_above', 'grade_9','grade_10','grade_11', 'grade_12',\n",
    "                  'bathrooms_1.0','bathrooms_1.25', 'bathrooms_1.5',\n",
    "                  'bathrooms_1.75', 'bathrooms_2.0', 'bathrooms_2.25', 'bathrooms_2.5',\n",
    "                  'bathrooms_2.75', 'bathrooms_3.0', 'bathrooms_3.25', 'bathrooms_3.5',\n",
    "                  'bathrooms_3.75', 'bathrooms_4.0', 'bathrooms_4.25', \n",
    "                  'levels_two', 'basement',\n",
    "                 'waterfront', 'sqft_lot','renovated',\n",
    "                  'city_Auburn', 'city_Bellevue', 'city_Black_Diamond', 'city_Bothell', \n",
    "                  'city_Duvall', 'city_Enumclaw', 'city_Fall_City', \n",
    "                  'city_Federal_Way', 'city_Issaquah', 'city_Kenmore', 'city_Kent', \n",
    "                  'city_Kirkland', 'city_Maple_Valley', 'city_Medina', 'city_Mercer_Island', \n",
    "                  'city_North_Bend', 'city_Renton', 'city_Sammamish', \n",
    "                  'city_Snoqualmie', 'city_Vashon', 'city_Woodinville']]"
   ]
  },
  {
   "cell_type": "code",
   "execution_count": null,
   "metadata": {},
   "outputs": [],
   "source": [
    "model_6 = sm.OLS(y, sm.add_constant(X_model_6)).fit()\n",
    "model_6.summary()"
   ]
  },
  {
   "cell_type": "code",
   "execution_count": null,
   "metadata": {},
   "outputs": [],
   "source": [
    "# Model 7: Drop bathroom dummies that are not statistically significant (bathrooms_1.0). Add statistically significant condition_good and condition_very_good.\n",
    "y = data.price \n",
    "X_model_7 = data[['sqft_above', 'grade_8','grade_9','grade_10','grade_11', 'grade_12',\n",
    "                  'bathrooms_1.25', 'bathrooms_1.5', 'bathrooms_1.75', 'bathrooms_2.0', 'bathrooms_2.25', 'bathrooms_2.5',\n",
    "                  'bathrooms_2.75', 'bathrooms_3.0', 'bathrooms_3.25', 'bathrooms_3.5',\n",
    "                  'bathrooms_3.75', 'bathrooms_4.0', 'bathrooms_4.25', \n",
    "                  'levels_two', 'basement',\n",
    "                  'waterfront', 'sqft_lot', 'renovated', 'condition_good', 'condition_very_good',\n",
    "                  'city_Auburn', 'city_Bellevue', 'city_Black_Diamond', 'city_Bothell', \n",
    "                  'city_Duvall', 'city_Enumclaw', 'city_Fall_City', \n",
    "                  'city_Federal_Way', 'city_Issaquah', 'city_Kenmore', 'city_Kent', \n",
    "                  'city_Kirkland', 'city_Maple_Valley', 'city_Medina', 'city_Mercer_Island', \n",
    "                  'city_North_Bend', 'city_Renton', 'city_Sammamish', \n",
    "                  'city_Snoqualmie', 'city_Vashon', 'city_Woodinville']]"
   ]
  },
  {
   "cell_type": "code",
   "execution_count": null,
   "metadata": {},
   "outputs": [],
   "source": [
    "model_7 = sm.OLS(y, sm.add_constant(X_model_7)).fit()\n",
    "model_7.summary()"
   ]
  },
  {
   "cell_type": "code",
   "execution_count": null,
   "metadata": {},
   "outputs": [],
   "source": [
    "# Model 8: Drop bathrooms_1.25, bathrooms_1.5, bathrooms_2.5, which are statistically insignificant.\n",
    "y = data.price \n",
    "X_model_8 = data[['sqft_above', 'grade_8','grade_9','grade_10','grade_11', 'grade_12',\n",
    "                  'bathrooms_1.75', 'bathrooms_2.0', 'bathrooms_2.25',\n",
    "                  'bathrooms_2.75', 'bathrooms_3.0', 'bathrooms_3.25', 'bathrooms_3.5',\n",
    "                  'bathrooms_3.75', 'bathrooms_4.0', 'bathrooms_4.25', \n",
    "                  'levels_two', 'basement',\n",
    "                  'waterfront', 'sqft_lot', 'renovated', 'condition_good', 'condition_very_good',\n",
    "                  'city_Auburn', 'city_Bellevue', 'city_Black_Diamond', 'city_Bothell', \n",
    "                  'city_Duvall', 'city_Enumclaw', 'city_Fall_City', \n",
    "                  'city_Federal_Way', 'city_Issaquah', 'city_Kenmore', 'city_Kent', \n",
    "                  'city_Kirkland', 'city_Maple_Valley', 'city_Medina', 'city_Mercer_Island', \n",
    "                  'city_North_Bend', 'city_Renton', 'city_Sammamish', \n",
    "                  'city_Snoqualmie', 'city_Vashon', 'city_Woodinville']]"
   ]
  },
  {
   "cell_type": "code",
   "execution_count": null,
   "metadata": {},
   "outputs": [],
   "source": [
    "model_8 = sm.OLS(y, sm.add_constant(X_model_8)).fit()\n",
    "model_8.summary()"
   ]
  },
  {
   "cell_type": "code",
   "execution_count": null,
   "metadata": {},
   "outputs": [],
   "source": [
    "# Model 9: Drop bathrooms_2.25, which is statistically insignificant.\n",
    "y = data.price \n",
    "X_model_9 = data[['sqft_above', 'grade_8','grade_9','grade_10','grade_11', 'grade_12',\n",
    "                  'bathrooms_1.75', 'bathrooms_2.0', \n",
    "                  'bathrooms_2.75', 'bathrooms_3.0', 'bathrooms_3.25', 'bathrooms_3.5',\n",
    "                  'bathrooms_3.75', 'bathrooms_4.0', 'bathrooms_4.25',\n",
    "                  'levels_two', 'levels_threeplus', 'basement',\n",
    "                  'waterfront', 'sqft_lot', 'renovated', 'condition_good', 'condition_very_good',\n",
    "                  'city_Auburn', 'city_Bellevue', 'city_Black_Diamond', 'city_Bothell', \n",
    "                  'city_Duvall', 'city_Enumclaw', 'city_Fall_City', \n",
    "                  'city_Federal_Way', 'city_Issaquah', 'city_Kenmore', 'city_Kent', \n",
    "                  'city_Kirkland', 'city_Maple_Valley', 'city_Medina', 'city_Mercer_Island', \n",
    "                  'city_North_Bend', 'city_Renton', 'city_Sammamish', \n",
    "                  'city_Snoqualmie', 'city_Vashon', 'city_Woodinville']]"
   ]
  },
  {
   "cell_type": "code",
   "execution_count": null,
   "metadata": {},
   "outputs": [],
   "source": [
    "X_model_9 = sm.add_constant(X_model_9)"
   ]
  },
  {
   "cell_type": "code",
   "execution_count": null,
   "metadata": {},
   "outputs": [],
   "source": [
    "model_9 = sm.OLS(y, X_model_9).fit()\n",
    "model_9.summary()"
   ]
  },
  {
   "cell_type": "markdown",
   "metadata": {},
   "source": [
    "#### Log transformation"
   ]
  },
  {
   "cell_type": "code",
   "execution_count": null,
   "metadata": {},
   "outputs": [],
   "source": [
    "data['price_log'] = np.log(data.price)\n",
    "data['sqft_above_log'] = np.log(data.sqft_above)"
   ]
  },
  {
   "cell_type": "code",
   "execution_count": null,
   "metadata": {},
   "outputs": [],
   "source": [
    "#Model 10:  Log transform price. Use independent variables in Model9.\n",
    "y_log = data.price_log\n",
    "X_model_10 = data[['sqft_above', 'grade_8','grade_9','grade_10','grade_11', 'grade_12',\n",
    "                  'bathrooms_1.75', 'bathrooms_2.0', \n",
    "                  'bathrooms_2.75', 'bathrooms_3.0', 'bathrooms_3.25', 'bathrooms_3.5',\n",
    "                  'bathrooms_3.75', 'bathrooms_4.0', 'bathrooms_4.25', \n",
    "                  'levels_two', 'basement',\n",
    "                  'waterfront', 'sqft_lot', 'renovated', 'condition_good', 'condition_very_good',\n",
    "                  'city_Auburn', 'city_Bellevue', 'city_Black_Diamond', 'city_Bothell', \n",
    "                  'city_Duvall', 'city_Enumclaw', 'city_Fall_City', \n",
    "                  'city_Federal_Way', 'city_Issaquah', 'city_Kenmore', 'city_Kent', \n",
    "                  'city_Kirkland', 'city_Maple_Valley', 'city_Medina', 'city_Mercer_Island', \n",
    "                  'city_North_Bend', 'city_Renton', 'city_Sammamish', \n",
    "                  'city_Snoqualmie', 'city_Vashon', 'city_Woodinville']]\n"
   ]
  },
  {
   "cell_type": "code",
   "execution_count": null,
   "metadata": {},
   "outputs": [],
   "source": [
    "X_model_10 = sm.add_constant(X_model_10)"
   ]
  },
  {
   "cell_type": "code",
   "execution_count": null,
   "metadata": {},
   "outputs": [],
   "source": [
    "model_10 = sm.OLS(y, X_model_10).fit()\n",
    "model_10.summary()"
   ]
  },
  {
   "cell_type": "markdown",
   "metadata": {},
   "source": [
    "- When log price is dependent variable, dependent variable sqft_above's confidence interval is reduced to zero. This suggests that the variable may not be different from the null hypothesis of sqft_above=0. In other words, the null hypothesis that sqft_above = 0 cannot be rejected. This variable is not significant to the model. In next iteration, use log sqft_above."
   ]
  },
  {
   "cell_type": "code",
   "execution_count": null,
   "metadata": {},
   "outputs": [],
   "source": [
    "#Model 11: Drop statistically insignificant bathroom dummy variables: bathrooms_3.5, bathrooms_4.0,\n",
    "# bathrooms_3.75, bathrooms_4.0, bathrooms_4.25. Replace sqft_above with log sqft_above.\n",
    "\n",
    "y_log = data.price_log\n",
    "X_model_11 = data[['sqft_above_log', 'grade_8','grade_9','grade_10','grade_11', 'grade_12',\n",
    "                  'bathrooms_1.75', 'bathrooms_2.0', \n",
    "                  'bathrooms_2.75', 'bathrooms_3.0', \n",
    "                  'levels_two', 'basement',\n",
    "                  'waterfront', 'sqft_lot', 'renovated', 'condition_good', 'condition_very_good',\n",
    "                  'city_Auburn', 'city_Bellevue', 'city_Black_Diamond', 'city_Bothell', \n",
    "                  'city_Duvall', 'city_Enumclaw', 'city_Fall_City', \n",
    "                  'city_Federal_Way', 'city_Issaquah', 'city_Kenmore', 'city_Kent', \n",
    "                  'city_Kirkland', 'city_Maple_Valley', 'city_Medina', 'city_Mercer_Island', \n",
    "                  'city_North_Bend', 'city_Renton', 'city_Sammamish', \n",
    "                  'city_Snoqualmie', 'city_Vashon', 'city_Woodinville']]"
   ]
  },
  {
   "cell_type": "code",
   "execution_count": null,
   "metadata": {},
   "outputs": [],
   "source": [
    "X_model_11 = sm.add_constant(X_model_11)"
   ]
  },
  {
   "cell_type": "code",
   "execution_count": null,
   "metadata": {
    "scrolled": true
   },
   "outputs": [],
   "source": [
    "model_11 = sm.OLS(y_log, X_model_11).fit()\n",
    "model_11.summary()"
   ]
  },
  {
   "cell_type": "markdown",
   "metadata": {},
   "source": [
    "### Selected Model: \n",
    "Model 9 has same r-squared (when accounting for rounding) and features as models 10 and 11, which include log transformations. Select model 9 for ease of interpretability in this analysis that is meant to be shared with the broader public in King County. However, testing assumptions (below) will be important to determine whether to move forward with this model, another model, and to continue iterating on model improvements."
   ]
  },
  {
   "cell_type": "code",
   "execution_count": null,
   "metadata": {},
   "outputs": [],
   "source": [
    "model_9 = sm.OLS(y, X_model_9).fit()\n",
    "model_9.summary()"
   ]
  },
  {
   "cell_type": "markdown",
   "metadata": {},
   "source": [
    "### Model Performance"
   ]
  },
  {
   "cell_type": "code",
   "execution_count": null,
   "metadata": {},
   "outputs": [],
   "source": [
    "#Get predictions\n",
    "y_pred = model_9.predict()"
   ]
  },
  {
   "cell_type": "code",
   "execution_count": null,
   "metadata": {},
   "outputs": [],
   "source": [
    "# MAE - Mean Absolute Error\n",
    "mean_absolute_error(y, y_pred)"
   ]
  },
  {
   "cell_type": "code",
   "execution_count": null,
   "metadata": {},
   "outputs": [],
   "source": [
    "# MSE - Mean Squared Error\n",
    "mean_squared_error(y, y_pred)"
   ]
  },
  {
   "cell_type": "code",
   "execution_count": null,
   "metadata": {},
   "outputs": [],
   "source": [
    "# RMSE - Root Mean Squared Error\n",
    "np.sqrt(mean_squared_error(y, y_pred))"
   ]
  },
  {
   "cell_type": "markdown",
   "metadata": {},
   "source": [
    "- High MAE, MSE, and RMSE indicate that the model is not accurate in predicting house prices.\n",
    "- However, the r-squared of 71% indicates that the model does generally well (with more room for improvement) in explaining the variation in house prices."
   ]
  },
  {
   "cell_type": "markdown",
   "metadata": {},
   "source": [
    "### Contextual calculations to support interpretation of model coefficients"
   ]
  },
  {
   "cell_type": "code",
   "execution_count": null,
   "metadata": {},
   "outputs": [],
   "source": [
    "print(data.loc[df_processed.grade == 12, ['price']].mean())\n",
    "print(data.loc[df_processed.grade == 8, ['price']].mean())"
   ]
  },
  {
   "cell_type": "code",
   "execution_count": null,
   "metadata": {},
   "outputs": [],
   "source": [
    "data.grade.mean().round(2)"
   ]
  },
  {
   "cell_type": "code",
   "execution_count": null,
   "metadata": {},
   "outputs": [],
   "source": [
    "print(data.loc[df_processed.bathrooms == 3, ['price']].mean())"
   ]
  },
  {
   "cell_type": "markdown",
   "metadata": {},
   "source": [
    "### Model Interpretation: Model 9\n",
    "The model can explain 71% of the variance in house prices in King County, Washington. It takes into account a range of features, including: \n",
    "- House structure: square footage, bathrooms, levels, basement\n",
    "- House quality: grade of construction, condition, renovations \n",
    "- House location: lot size, waterfront, and location as determined by City\n",
    "\n",
    "\n",
    "Coefficient interpretation:\n",
    "- Construction grade: The largest price increases are associated with a higher grade of construction. Homes with custom design, excellent builders, and of the highest quality (grade 12) are worth USD 540k more than average and below average grade homes. Even homes that have just above average construction (grade 8) are worth USD 85k more than homes with average and below average construction grades. For reference, the average price of grade 12 homes is USD 1.39M, and the average price of grade 8 homes is USD 538k, which is higher than the county mean home price of USD 504k. The average grade of homes in King County is 7.6, and the median grade is 7.0.\n",
    "\n",
    "\n",
    "- Bathrooms: A higher number of bathrooms is associated with higher prices. Compared to three-quarters of a bathroom, one full-sized bathroom, and one full bathroom plus a second bathroom with only a toilet (1.25 bath), homes with one and three-quarter bathrooms are worth USD 10.6k more, homes with two full-sized bathrooms are worth USD 13.9k more, homes with three full-sized bathrooms are worth USD 25.1k more, and homes with four full-sized bathrooms are worth USD 59.8k more. The average number of bathrooms in King County homes is two, and the median is 2.25.\n",
    "\n",
    "\n",
    "- Levels: Homes with two levels above ground are associated with a USD 15k higher price and three-plus story homes are associated with USD 28k higher price compared to single-story homes. The median number of floors in King County homes is one, and the median is just shy of 1.5 floors.\n",
    "\n",
    "\n",
    "- Basement: Homes with a basement are worth USD 86k more than homes without a basement.\n",
    "\n",
    "\n",
    "- Waterfront: Homes located on the waterfront are worth USD 331k more than homes not located on the waterfront.\n",
    "\n",
    "\n",
    "- Renovated: Homes that have been renovated are worth USD 92k more than homes that have not been renovated. The average price of renovated homes in King County is USD 642.6k.\n",
    "\n",
    "\n",
    "- Condition: Homes in better condition are associated with higher prices. Compared to poor, fair, and average conditions, homes in good condition are worth USD 47k more. Homes in very good condition are worth USD 103k more.\n",
    "\n",
    "\n",
    "- Square footage above ground: A unit increase in square footage is associated with a USD 115 increase in home price.\n",
    "\n",
    "\n",
    "- Square footage of lot: A unit increase in square footage is associated with a smaller USD 0.17 increase in home price.\n",
    "\n",
    "\n",
    "- Location: Homes' location matters a lot. Compared to Seattle and Redmond, homes in other King County cities are worth up to USD 598k more and USD 83k less depending on which city they are in.\n",
    "\n",
    "\n",
    "Other insights:\n",
    "\n",
    "- Interestingly, the model does not include bedrooms, which was determined to not be statistically significant in the model. Holding all other variables constant, more bedrooms are not associated with higher home prices. For example, this could be because home owners may find it unappealing to have more rooms if square footage does not increase and rooms are small, if there are not more bathrooms, and if the house is not situated in their preferred location.\n",
    "\n",
    "- Further work could assess location with more granularity as well as incorporate age-related features and analyze the relationship between price and the bedrooms-to-bathrooms ratio."
   ]
  },
  {
   "cell_type": "markdown",
   "metadata": {},
   "source": [
    "### Testing Assumptions"
   ]
  },
  {
   "cell_type": "markdown",
   "metadata": {},
   "source": [
    "#### Linearity"
   ]
  },
  {
   "cell_type": "code",
   "execution_count": null,
   "metadata": {},
   "outputs": [],
   "source": [
    "# Baseline model\n",
    "preds = model_baseline.predict()\n",
    "fig, ax = plt.subplots()\n",
    "\n",
    "perfect_line = np.arange(data.price.min(), data.price.max())\n",
    "ax.plot(perfect_line, linestyle=\"--\", color=\"orange\", label=\"Perfect Fit\")\n",
    "ax.scatter(data.price, preds, alpha=0.5)\n",
    "ax.set_xlabel(\"Actual Price\")\n",
    "ax.set_ylabel(\"Predicted Price\")\n",
    "ax.legend();"
   ]
  },
  {
   "cell_type": "code",
   "execution_count": null,
   "metadata": {
    "scrolled": true
   },
   "outputs": [],
   "source": [
    "# Selected model: Model 9\n",
    "fig, ax = plt.subplots(figsize = (5,6))\n",
    "\n",
    "preds = model_9.predict()\n",
    "\n",
    "perfect_line = np.arange(data.price.min(), data.price.max())\n",
    "ax.plot(perfect_line, linestyle=\"--\", color=\"orange\", label=\"Perfect Fit\")\n",
    "ax.scatter(data.price, preds, alpha=0.5)\n",
    "ax.set_xlabel(\"Actual Price\")\n",
    "ax.set_ylabel(\"Predicted Price\")\n",
    "ax.legend();\n",
    "\n",
    "plt.xticks(rotation=90)\n",
    "ax.xaxis.set_major_formatter(StrMethodFormatter('{x:,.0f}'))\n",
    "ax.yaxis.set_major_formatter(StrMethodFormatter('{x:,.0f}'))\n",
    "sns.despine()\n"
   ]
  },
  {
   "cell_type": "markdown",
   "metadata": {},
   "source": [
    "- Selected model (model 9) has outliers but there is an overall linear relationship. The linearity assumption is not violated."
   ]
  },
  {
   "cell_type": "markdown",
   "metadata": {},
   "source": [
    "#### Normality"
   ]
  },
  {
   "cell_type": "code",
   "execution_count": null,
   "metadata": {},
   "outputs": [],
   "source": [
    "# Test the normality assumption with QQ plot\n",
    "residuals = model_baseline.resid\n",
    "sm.graphics.qqplot(residuals, dist=stats.norm, line='45', fit=True)\n",
    "plt.show()"
   ]
  },
  {
   "cell_type": "code",
   "execution_count": null,
   "metadata": {},
   "outputs": [],
   "source": [
    "residuals = model_9.resid  \n",
    "sm.graphics.qqplot(residuals, dist=stats.norm, line='45', fit=True)\n",
    "plt.show()"
   ]
  },
  {
   "cell_type": "code",
   "execution_count": null,
   "metadata": {},
   "outputs": [],
   "source": [
    "residuals = model_11.resid   #log price and log sqft_above\n",
    "sm.graphics.qqplot(residuals, dist=stats.norm, line='45', fit=True)\n",
    "plt.show()"
   ]
  },
  {
   "cell_type": "markdown",
   "metadata": {},
   "source": [
    "- Outliers are problematic in the baseline and model 9, and look worse in model 9 versus the baseline model in terms of the normality assumption. \n",
    "- Including log price and log sqft_above in the model (instead of price and sqft_above) improves the normality assumption. This suggests that model 11 is better than model 9 in regards to the normality assumption."
   ]
  },
  {
   "cell_type": "markdown",
   "metadata": {},
   "source": [
    "#### Multicollinearity"
   ]
  },
  {
   "cell_type": "code",
   "execution_count": null,
   "metadata": {},
   "outputs": [],
   "source": [
    "# Baseline model\n",
    "vif = [variance_inflation_factor(X_model_baseline.values, i) for i in range(X_model_baseline.shape[1])]\n",
    "pd.Series(vif, index=X_model_baseline.columns, name=\"Variance Inflation Factor\")"
   ]
  },
  {
   "cell_type": "code",
   "execution_count": null,
   "metadata": {},
   "outputs": [],
   "source": [
    "# Selected model\n",
    "vif = [variance_inflation_factor(X_model_9.values, i) for i in range(X_model_9.shape[1])]\n",
    "pd.Series(vif, index=X_model_9.columns, name=\"Variance Inflation Factor\")"
   ]
  },
  {
   "cell_type": "markdown",
   "metadata": {},
   "source": [
    "- Low mutlicollinearity in baseline model and selected model 9. Model 11 also has low multicolllinearity."
   ]
  },
  {
   "cell_type": "markdown",
   "metadata": {},
   "source": [
    "#### Homoscedasticity"
   ]
  },
  {
   "cell_type": "code",
   "execution_count": null,
   "metadata": {},
   "outputs": [],
   "source": [
    "# Baseline model\n",
    "fig, ax = plt.subplots()\n",
    "\n",
    "preds = model_baseline.predict()\n",
    "ax.scatter(preds, residuals, alpha=0.5)\n",
    "ax.plot(preds, [0 for i in range(len(X_model_7))])\n",
    "ax.set_xlabel(\"Predicted Value\")\n",
    "ax.set_ylabel(\"Actual - Predicted Value\");"
   ]
  },
  {
   "cell_type": "code",
   "execution_count": null,
   "metadata": {},
   "outputs": [],
   "source": [
    "# Selected model: Model 9\n",
    "fig, ax = plt.subplots()\n",
    "\n",
    "preds = model_9.predict()\n",
    "ax.scatter(preds, residuals, alpha=0.5)\n",
    "ax.plot(preds, [0 for i in range(len(X_model_7))])\n",
    "ax.set_xlabel(\"Predicted Value\")\n",
    "ax.set_ylabel(\"Actual - Predicted Value\");"
   ]
  },
  {
   "cell_type": "code",
   "execution_count": null,
   "metadata": {},
   "outputs": [],
   "source": [
    "# Selected model: Model 11  #log price and log sqft_above\n",
    "fig, ax = plt.subplots()\n",
    "\n",
    "preds = model_11.predict()\n",
    "ax.scatter(preds, residuals, alpha=0.5)\n",
    "ax.plot(preds, [0 for i in range(len(X_model_8))])\n",
    "ax.set_xlabel(\"Predicted Value\")\n",
    "ax.set_ylabel(\"Actual - Predicted Value\");"
   ]
  },
  {
   "cell_type": "markdown",
   "metadata": {},
   "source": [
    "- Residuals in selected model 9 (and model 11) are heteroscedastic, varying based on the predicted price. This is a result of how outliers were removed in the preprocessing. Recall that--for price, bedrooms, and bathrooms--maximum thresholds were set at three standard deviations above the mean. Values above these thresholds were dropped.\n",
    "- Homoskedasticity assumption is violated."
   ]
  }
 ],
 "metadata": {
  "kernelspec": {
   "display_name": "Python 3",
   "language": "python",
   "name": "python3"
  },
  "language_info": {
   "codemirror_mode": {
    "name": "ipython",
    "version": 3
   },
   "file_extension": ".py",
   "mimetype": "text/x-python",
   "name": "python",
   "nbconvert_exporter": "python",
   "pygments_lexer": "ipython3",
   "version": "3.6.9"
  }
 },
 "nbformat": 4,
 "nbformat_minor": 2
}
